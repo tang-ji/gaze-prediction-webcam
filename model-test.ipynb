{
 "cells": [
  {
   "cell_type": "code",
   "execution_count": 2,
   "metadata": {},
   "outputs": [],
   "source": [
    "import numpy as np\n",
    "import cv2, os, pyautogui, time\n",
    "from PIL import Image\n",
    "import matplotlib.pyplot as plt\n",
    "import warnings\n",
    "\n",
    "from src.face_features import *\n",
    "from src.tools import *\n",
    "from keras.models import load_model\n",
    "\n",
    "model = load_model(\"checkpoints\")\n",
    "width, height= pyautogui.size()"
   ]
  },
  {
   "cell_type": "code",
   "execution_count": 60,
   "metadata": {},
   "outputs": [],
   "source": [
    "cap = cv2.VideoCapture(0)\n",
    "ret, frame = cap.read()\n",
    "cv2.destroyAllWindows()\n",
    "cap.release()"
   ]
  },
  {
   "cell_type": "code",
   "execution_count": null,
   "metadata": {},
   "outputs": [],
   "source": [
    "cap = cv2.VideoCapture(0)\n",
    "class GetOutOfLoop(Exception):\n",
    "    pass\n",
    "\n",
    "try:\n",
    "    while(True): \n",
    "        ret, frame = cap.read()\n",
    "        if ret:\n",
    "            if ret:\n",
    "                frame = cv2.cvtColor(frame, cv2.COLOR_BGR2GRAY)\n",
    "                face_features = extract_image_features(frame)\n",
    "                try:\n",
    "                    face_features[1][0]; face_features[1][1]; face_features[0]; face_features[2]\n",
    "                    x_temp = []\n",
    "                    x_temp.append(np.expand_dims(cv2.resize(face_features[1][0], eye_size, interpolation = cv2.INTER_AREA), [0, -1])/255.0)\n",
    "                    x_temp.append(np.expand_dims(cv2.resize(face_features[1][1], eye_size, interpolation = cv2.INTER_AREA), [0, -1])/255.0)\n",
    "                    x_temp.append(np.expand_dims(cv2.resize(face_features[0], face_size, interpolation = cv2.INTER_AREA), [0, -1])/255.0)\n",
    "                    x_temp.append(np.expand_dims(cv2.resize(face_features[2], mask_size, interpolation = cv2.INTER_AREA), [0, -1])/255.0)\n",
    "                    [x, y] = model.predict(x_temp)[0]\n",
    "                    pyautogui.moveTo(x * width, y * height, duration=0.15)\n",
    "                except Exception as e:\n",
    "                    print(e)\n",
    "        if cv2.waitKey(1) & 0xFF == ord('q'):\n",
    "            raise GetOutOfLoop\n",
    "except Exception as e:\n",
    "    print(e)\n",
    "finally:\n",
    "    for i in range(10):\n",
    "        cv2.destroyAllWindows()\n",
    "        cv2.waitKey(1)\n",
    "    cap.release()"
   ]
  },
  {
   "cell_type": "code",
   "execution_count": null,
   "metadata": {
    "scrolled": true
   },
   "outputs": [],
   "source": [
    "cap = cv2.VideoCapture(0)\n",
    "cv2.startWindowThread()\n",
    "class GetOutOfLoop(Exception):\n",
    "    pass\n",
    "\n",
    "window = np.zeros((img_size[0]*2,img_size[1]*2,3), dtype=np.uint8)\n",
    "\n",
    "try:\n",
    "    while(True): \n",
    "        ret, frame = cap.read()\n",
    "        if ret:\n",
    "            if ret:\n",
    "                face_features = extract_image_features(frame)\n",
    "                try:\n",
    "                    face_features[1][0]; face_features[1][1]; face_features[0]; face_features[2]\n",
    "                    merge_results(window, face_features)\n",
    "                    cv2.imshow(\"Window\", window)\n",
    "                except Exception as e:\n",
    "                    print(e)\n",
    "        if cv2.waitKey(1) & 0xFF == ord('q'):\n",
    "            raise GetOutOfLoop\n",
    "except Exception as e:\n",
    "    print(e)\n",
    "finally:\n",
    "    cv2.destroyAllWindows()\n",
    "    cap.release()"
   ]
  },
  {
   "cell_type": "code",
   "execution_count": null,
   "metadata": {},
   "outputs": [],
   "source": []
  }
 ],
 "metadata": {
  "kernelspec": {
   "display_name": "Python 3",
   "language": "python",
   "name": "python3"
  },
  "language_info": {
   "codemirror_mode": {
    "name": "ipython",
    "version": 3
   },
   "file_extension": ".py",
   "mimetype": "text/x-python",
   "name": "python",
   "nbconvert_exporter": "python",
   "pygments_lexer": "ipython3",
   "version": "3.7.7"
  }
 },
 "nbformat": 4,
 "nbformat_minor": 4
}
