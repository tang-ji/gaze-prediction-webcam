{
 "cells": [
  {
   "cell_type": "code",
   "execution_count": 1,
   "metadata": {},
   "outputs": [],
   "source": [
    "import numpy as np\n",
    "import cv2, os, pyautogui, time\n",
    "from PIL import Image\n",
    "import matplotlib.pyplot as plt\n",
    "import warnings\n",
    "\n",
    "from src.face_features import *\n",
    "from src.tools import *\n",
    "from keras.models import load_model\n",
    "\n",
    "model = load_model(\"checkpoints\")\n",
    "width, height= pyautogui.size()"
   ]
  },
  {
   "cell_type": "code",
   "execution_count": null,
   "metadata": {},
   "outputs": [],
   "source": [
    "cap = cv2.VideoCapture(0)\n",
    "img_size = 64\n",
    "n_channel = 1\n",
    "\n",
    "try:\n",
    "    while(True): \n",
    "        ret, frame = cap.read()\n",
    "        if ret:\n",
    "            preds = landmarks_detector.get_landmarks(frame)\n",
    "            if ret:\n",
    "                frame = cv2.cvtColor(frame, cv2.COLOR_BGR2GRAY)\n",
    "                face_features = extract_image_features(frame)\n",
    "                try:\n",
    "                    face_features[1][0]; face_features[1][1]; face_features[0]; face_features[2]\n",
    "                    x_temp = []\n",
    "                    x_temp.append(np.expand_dims(cv2.resize(face_features[1][0], (img_size,img_size), interpolation = cv2.INTER_AREA), [0, -1])/255.0)\n",
    "                    x_temp.append(np.expand_dims(cv2.resize(face_features[1][1], (img_size,img_size), interpolation = cv2.INTER_AREA), [0, -1])/255.0)\n",
    "                    x_temp.append(np.expand_dims(cv2.resize(face_features[0], (img_size,img_size), interpolation = cv2.INTER_AREA), [0, -1])/255.0)\n",
    "                    x_temp.append(np.expand_dims(face_features[2], 0))\n",
    "                    [x, y] = model.predict(x_temp)[0]\n",
    "                    pyautogui.moveTo(x * width, y * height, duration=0.15)\n",
    "                except Exception as e:\n",
    "                    print(e)\n",
    "        if cv2.waitKey(1) & 0xFF == ord('q'):\n",
    "            raise GetOutOfLoop\n",
    "except:\n",
    "    pass\n",
    "finally:\n",
    "    cv2.destroyAllWindows()\n",
    "    cap.release()"
   ]
  },
  {
   "cell_type": "code",
   "execution_count": null,
   "metadata": {},
   "outputs": [],
   "source": []
  }
 ],
 "metadata": {
  "kernelspec": {
   "display_name": "Python 3",
   "language": "python",
   "name": "python3"
  },
  "language_info": {
   "codemirror_mode": {
    "name": "ipython",
    "version": 3
   },
   "file_extension": ".py",
   "mimetype": "text/x-python",
   "name": "python",
   "nbconvert_exporter": "python",
   "pygments_lexer": "ipython3",
   "version": "3.7.7"
  }
 },
 "nbformat": 4,
 "nbformat_minor": 4
}
