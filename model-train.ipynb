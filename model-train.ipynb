{
 "cells": [
  {
   "cell_type": "code",
   "execution_count": 1,
   "metadata": {},
   "outputs": [],
   "source": [
    "import numpy as np\n",
    "import cv2, os, pyautogui, time\n",
    "from PIL import Image\n",
    "import matplotlib.pyplot as plt\n",
    "import warnings\n",
    "\n",
    "from src.face_features import *\n",
    "from src.tools import *\n",
    "\n",
    "width, height= pyautogui.size()"
   ]
  },
  {
   "cell_type": "code",
   "execution_count": 22,
   "metadata": {
    "scrolled": true
   },
   "outputs": [
    {
     "name": "stdout",
     "output_type": "stream",
     "text": [
      "Model: \"functional_13\"\n",
      "__________________________________________________________________________________________________\n",
      "Layer (type)                    Output Shape         Param #     Connected to                     \n",
      "==================================================================================================\n",
      "input_27 (InputLayer)           [(None, 64, 64, 1)]  0                                            \n",
      "__________________________________________________________________________________________________\n",
      "conv2d_64 (Conv2D)              (None, 56, 56, 256)  20992       input_27[0][0]                   \n",
      "__________________________________________________________________________________________________\n",
      "input_28 (InputLayer)           [(None, 64, 64, 1)]  0                                            \n",
      "__________________________________________________________________________________________________\n",
      "input_25 (InputLayer)           [(None, 32, 64, 1)]  0                                            \n",
      "__________________________________________________________________________________________________\n",
      "input_26 (InputLayer)           [(None, 32, 64, 1)]  0                                            \n",
      "__________________________________________________________________________________________________\n",
      "max_pooling2d_64 (MaxPooling2D) (None, 28, 28, 256)  0           conv2d_64[0][0]                  \n",
      "__________________________________________________________________________________________________\n",
      "conv2d_67 (Conv2D)              (None, 29, 29, 32)   1600        input_28[0][0]                   \n",
      "__________________________________________________________________________________________________\n",
      "conv2d_60 (Conv2D)              (None, 14, 30, 128)  3328        input_25[0][0]                   \n",
      "__________________________________________________________________________________________________\n",
      "conv2d_62 (Conv2D)              (None, 14, 30, 128)  3328        input_26[0][0]                   \n",
      "__________________________________________________________________________________________________\n",
      "conv2d_65 (Conv2D)              (None, 13, 13, 64)   147520      max_pooling2d_64[0][0]           \n",
      "__________________________________________________________________________________________________\n",
      "max_pooling2d_67 (MaxPooling2D) (None, 14, 14, 32)   0           conv2d_67[0][0]                  \n",
      "__________________________________________________________________________________________________\n",
      "max_pooling2d_60 (MaxPooling2D) (None, 7, 15, 128)   0           conv2d_60[0][0]                  \n",
      "__________________________________________________________________________________________________\n",
      "max_pooling2d_62 (MaxPooling2D) (None, 7, 15, 128)   0           conv2d_62[0][0]                  \n",
      "__________________________________________________________________________________________________\n",
      "max_pooling2d_65 (MaxPooling2D) (None, 6, 6, 64)     0           conv2d_65[0][0]                  \n",
      "__________________________________________________________________________________________________\n",
      "conv2d_68 (Conv2D)              (None, 10, 10, 32)   25632       max_pooling2d_67[0][0]           \n",
      "__________________________________________________________________________________________________\n",
      "conv2d_61 (Conv2D)              (None, 3, 7, 64)     73792       max_pooling2d_60[0][0]           \n",
      "__________________________________________________________________________________________________\n",
      "conv2d_63 (Conv2D)              (None, 3, 7, 64)     73792       max_pooling2d_62[0][0]           \n",
      "__________________________________________________________________________________________________\n",
      "conv2d_66 (Conv2D)              (None, 4, 4, 64)     36928       max_pooling2d_65[0][0]           \n",
      "__________________________________________________________________________________________________\n",
      "max_pooling2d_68 (MaxPooling2D) (None, 5, 5, 32)     0           conv2d_68[0][0]                  \n",
      "__________________________________________________________________________________________________\n",
      "max_pooling2d_61 (MaxPooling2D) (None, 1, 3, 64)     0           conv2d_61[0][0]                  \n",
      "__________________________________________________________________________________________________\n",
      "max_pooling2d_63 (MaxPooling2D) (None, 1, 3, 64)     0           conv2d_63[0][0]                  \n",
      "__________________________________________________________________________________________________\n",
      "max_pooling2d_66 (MaxPooling2D) (None, 2, 2, 64)     0           conv2d_66[0][0]                  \n",
      "__________________________________________________________________________________________________\n",
      "conv2d_69 (Conv2D)              (None, 3, 3, 32)     9248        max_pooling2d_68[0][0]           \n",
      "__________________________________________________________________________________________________\n",
      "reshape_24 (Reshape)            (None, 1, 192)       0           max_pooling2d_61[0][0]           \n",
      "__________________________________________________________________________________________________\n",
      "reshape_25 (Reshape)            (None, 1, 192)       0           max_pooling2d_63[0][0]           \n",
      "__________________________________________________________________________________________________\n",
      "reshape_26 (Reshape)            (None, 1, 256)       0           max_pooling2d_66[0][0]           \n",
      "__________________________________________________________________________________________________\n",
      "max_pooling2d_69 (MaxPooling2D) (None, 1, 1, 32)     0           conv2d_69[0][0]                  \n",
      "__________________________________________________________________________________________________\n",
      "concatenate_12 (Concatenate)    (None, 1, 384)       0           reshape_24[0][0]                 \n",
      "                                                                 reshape_25[0][0]                 \n",
      "__________________________________________________________________________________________________\n",
      "dense_37 (Dense)                (None, 1, 128)       32896       reshape_26[0][0]                 \n",
      "__________________________________________________________________________________________________\n",
      "reshape_27 (Reshape)            (None, 1, 32)        0           max_pooling2d_69[0][0]           \n",
      "__________________________________________________________________________________________________\n",
      "dense_36 (Dense)                (None, 1, 128)       49280       concatenate_12[0][0]             \n",
      "__________________________________________________________________________________________________\n",
      "dense_38 (Dense)                (None, 1, 128)       16512       dense_37[0][0]                   \n",
      "__________________________________________________________________________________________________\n",
      "dense_39 (Dense)                (None, 1, 128)       4224        reshape_27[0][0]                 \n",
      "__________________________________________________________________________________________________\n",
      "flatten_18 (Flatten)            (None, 128)          0           dense_36[0][0]                   \n",
      "__________________________________________________________________________________________________\n",
      "flatten_19 (Flatten)            (None, 128)          0           dense_38[0][0]                   \n",
      "__________________________________________________________________________________________________\n",
      "flatten_20 (Flatten)            (None, 128)          0           dense_39[0][0]                   \n",
      "__________________________________________________________________________________________________\n",
      "concatenate_13 (Concatenate)    (None, 384)          0           flatten_18[0][0]                 \n",
      "                                                                 flatten_19[0][0]                 \n",
      "                                                                 flatten_20[0][0]                 \n",
      "__________________________________________________________________________________________________\n",
      "dense_40 (Dense)                (None, 128)          49280       concatenate_13[0][0]             \n",
      "__________________________________________________________________________________________________\n",
      "dropout (Dropout)               (None, 128)          0           dense_40[0][0]                   \n",
      "__________________________________________________________________________________________________\n",
      "dense_41 (Dense)                (None, 128)          16512       dropout[0][0]                    \n",
      "__________________________________________________________________________________________________\n",
      "dense_42 (Dense)                (None, 2)            258         dense_41[0][0]                   \n",
      "==================================================================================================\n",
      "Total params: 565,122\n",
      "Trainable params: 565,122\n",
      "Non-trainable params: 0\n",
      "__________________________________________________________________________________________________\n"
     ]
    }
   ],
   "source": [
    "from src.model import model\n",
    "from keras.layers import *\n",
    "from keras.models import Model\n",
    "from keras.layers.advanced_activations import LeakyReLU\n",
    "from src.config import *\n",
    "\n",
    "import numpy as np\n",
    "\n",
    "# CNN structure for eyes\n",
    "conv1_eye_size = 5\n",
    "conv1_eye_out = 128\n",
    "conv1_eye_strides = 2\n",
    "pool1_eye_size = 2\n",
    "pool1_eye_stride = 2\n",
    "\n",
    "conv2_eye_size = 3\n",
    "conv2_eye_out = 64\n",
    "conv2_eye_strides = 2\n",
    "pool2_eye_size = 2\n",
    "pool2_eye_stride = 2\n",
    "\n",
    "# CNN structure for face\n",
    "conv1_face_size = 9\n",
    "conv1_face_out = 256\n",
    "conv1_face_strides = 1\n",
    "pool1_face_size = 2\n",
    "pool1_face_stride = 2\n",
    "\n",
    "conv2_face_size = 5\n",
    "conv2_face_out = 64\n",
    "conv2_face_strides = 2\n",
    "pool2_face_size = 2\n",
    "pool2_face_stride = 2\n",
    "\n",
    "conv3_face_size = 3\n",
    "conv3_face_out = 64\n",
    "pool3_face_size = 2\n",
    "pool3_face_stride = 2\n",
    "\n",
    "# CNN structure for mask\n",
    "conv1_mask_size = 7\n",
    "conv1_mask_out = 32\n",
    "conv1_mask_strides = 2\n",
    "pool1_mask_size = 2\n",
    "pool1_mask_stride = 2\n",
    "\n",
    "conv2_mask_size = 5\n",
    "conv2_mask_out = 32\n",
    "conv2_mask_strides = 1\n",
    "pool2_mask_size = 2\n",
    "pool2_mask_stride = 2\n",
    "\n",
    "conv3_mask_size = 3\n",
    "conv3_mask_out = 32\n",
    "pool3_mask_size = 2\n",
    "pool3_mask_stride = 2\n",
    "\n",
    "fc_eye_size = 128\n",
    "fc_face_size = 128\n",
    "fc2_face_size = 128\n",
    "fc_mask_size = 128\n",
    "fc_size = 128\n",
    "fc2_size = 2\n",
    "\n",
    "right_input = Input(shape=(eye_size[1], eye_size[0], n_channel))\n",
    "left_input = Input(shape=(eye_size[1], eye_size[0], n_channel))\n",
    "face_input = Input(shape=(face_size[1], face_size[0], n_channel))\n",
    "mask_input = Input(shape=(mask_size[1], mask_size[0], n_channel))\n",
    "\n",
    "conv1_right = Conv2D(conv1_eye_out, kernel_size=conv1_eye_size, strides=conv1_eye_strides)(right_input)\n",
    "conv1_pool_right = MaxPooling2D(pool_size=pool1_eye_size, strides=pool1_eye_stride)(conv1_right)\n",
    "conv2_right = Conv2D(conv2_eye_out, kernel_size=conv2_eye_size, strides=conv2_eye_strides)(conv1_pool_right)\n",
    "conv2_pool_right = MaxPooling2D(pool_size=pool2_eye_size, strides=pool2_eye_stride)(conv2_right)\n",
    "\n",
    "conv1_left = Conv2D(conv1_eye_out, kernel_size=conv1_eye_size, strides=conv1_eye_strides)(left_input)\n",
    "conv1_pool_left = MaxPooling2D(pool_size=pool1_eye_size, strides=pool1_eye_stride)(conv1_left)\n",
    "conv2_left = Conv2D(conv2_eye_out, kernel_size=conv2_eye_size, strides=conv2_eye_strides)(conv1_pool_left)\n",
    "conv2_pool_left = MaxPooling2D(pool_size=pool2_eye_size, strides=pool2_eye_stride)(conv2_left)\n",
    "\n",
    "conv1_face = Conv2D(conv1_face_out, kernel_size=conv1_face_size, strides=conv1_face_strides)(face_input)\n",
    "conv1_pool_face = MaxPooling2D(pool_size=pool1_face_size, strides=pool1_face_stride)(conv1_face)\n",
    "conv2_face = Conv2D(conv2_face_out, kernel_size=conv2_eye_size, strides=conv2_face_strides)(conv1_pool_face)\n",
    "conv2_pool_face = MaxPooling2D(pool_size=pool2_face_size, strides=pool2_face_stride)(conv2_face)\n",
    "conv3_face = Conv2D(conv3_face_out, kernel_size=conv3_face_size)(conv2_pool_face)\n",
    "conv3_pool_face = MaxPooling2D(pool_size=pool3_face_size, strides=pool3_face_stride)(conv3_face)\n",
    "\n",
    "conv1_mask = Conv2D(conv1_mask_out, kernel_size=conv1_mask_size, strides=conv1_mask_strides)(mask_input)\n",
    "conv1_pool_mask = MaxPooling2D(pool_size=pool1_mask_size, strides=pool1_mask_stride)(conv1_mask)\n",
    "conv2_mask = Conv2D(conv2_mask_out, kernel_size=conv2_mask_size, strides=conv2_mask_strides)(conv1_pool_mask)\n",
    "conv2_pool_mask = MaxPooling2D(pool_size=pool2_mask_size, strides=pool2_mask_stride)(conv2_mask)\n",
    "conv3_mask = Conv2D(conv3_mask_out, kernel_size=conv3_mask_size)(conv2_pool_mask)\n",
    "conv3_pool_mask = MaxPooling2D(pool_size=pool3_mask_size, strides=pool3_mask_stride)(conv3_mask)\n",
    "\n",
    "right_out = Reshape([-1, int(np.prod(conv2_pool_right.get_shape()[1:]))])(conv2_pool_right)\n",
    "left_out = Reshape([-1, int(np.prod(conv2_pool_left.get_shape()[1:]))])(conv2_pool_left)\n",
    "\n",
    "eyes = Concatenate(axis=-1)([right_out, left_out])\n",
    "eyes = Dense(fc_eye_size, activation=\"relu\")(eyes)\n",
    "eyes = Flatten()(eyes)\n",
    "\n",
    "face = Reshape([-1, int(np.prod(conv3_pool_face.get_shape()[1:]))])(conv3_pool_face)\n",
    "face = Dense(fc_face_size, activation=\"relu\")(face)\n",
    "face = Dense(fc2_face_size, activation=\"relu\")(face)\n",
    "face = Flatten()(face)\n",
    "\n",
    "mask = Reshape([-1, int(np.prod(conv3_pool_mask.get_shape()[1:]))])(conv3_pool_mask)\n",
    "mask = Dense(fc_mask_size, activation=\"relu\")(mask)\n",
    "mask = Flatten()(mask)\n",
    "\n",
    "fc = Concatenate(axis=-1)([eyes, face, mask])\n",
    "fc2 = Dense(fc_size, activation=\"relu\")(fc)\n",
    "fc2 = Dropout(0.5)(fc2)\n",
    "fc2 = Dense(fc_size, activation=\"relu\")(fc2)\n",
    "out = Dense(fc2_size, activation=\"sigmoid\")(fc2)\n",
    "\n",
    "model = Model([left_input, right_input, face_input, mask_input], out)\n",
    "model.compile(optimizer='adam', loss=\"mse\")\n",
    "model.summary() "
   ]
  },
  {
   "cell_type": "code",
   "execution_count": 9,
   "metadata": {},
   "outputs": [],
   "source": [
    "# pickle.dump([X_left, X_right, X_face, X_mask, Y], open(\"save.pkl\", \"wb\"))\n",
    "\n",
    "# X_left = np.concatenate([X_left, X_left_old])\n",
    "# X_right = np.concatenate([X_right, X_right_old])\n",
    "# X_face = np.concatenate([X_face, X_face_old])\n",
    "# X_mask = np.concatenate([X_mask, X_mask_old])\n",
    "# Y = np.concatenate([Y, Y_old])"
   ]
  },
  {
   "cell_type": "code",
   "execution_count": 7,
   "metadata": {},
   "outputs": [],
   "source": [
    "X_left_old, X_right_old, X_face_old, X_mask_old, Y_old = X_left, X_right, X_face, X_mask, Y"
   ]
  },
  {
   "cell_type": "code",
   "execution_count": 10,
   "metadata": {},
   "outputs": [
    {
     "name": "stdout",
     "output_type": "stream",
     "text": [
      "(16292, 32, 64, 1) (16292, 32, 64, 1) (16292, 64, 64, 1) (16292, 64, 64, 1) (16292, 2)\n"
     ]
    }
   ],
   "source": [
    "import pickle\n",
    "\n",
    "[X_left, X_right, X_face, X_mask, Y] = pickle.load(open(\"save.pkl\", \"rb\"))\n",
    "print(X_left.shape, X_right.shape, X_face.shape, X_mask.shape, Y.shape)"
   ]
  },
  {
   "cell_type": "code",
   "execution_count": 14,
   "metadata": {},
   "outputs": [],
   "source": [
    "from sklearn.model_selection import train_test_split\n",
    "train_set, test_set = train_test_split(list(range(len(Y))), train_size=0.9, shuffle=True)\n",
    "\n",
    "X_train = [X_left[train_set], X_right[train_set], X_face[train_set], X_mask[train_set]]\n",
    "X_test = [X_left[test_set], X_right[test_set], X_face[test_set], X_mask[test_set]]"
   ]
  },
  {
   "cell_type": "code",
   "execution_count": 2,
   "metadata": {},
   "outputs": [
    {
     "name": "stderr",
     "output_type": "stream",
     "text": [
      "WARNING:root:Limited tf.compat.v2.summary API due to missing TensorBoard installation.\n",
      "WARNING:root:Limited tf.compat.v2.summary API due to missing TensorBoard installation.\n",
      "WARNING:root:Limited tf.compat.v2.summary API due to missing TensorBoard installation.\n",
      "WARNING:root:Limited tf.summary API due to missing TensorBoard installation.\n"
     ]
    }
   ],
   "source": [
    "from keras.models import load_model\n",
    "model = load_model(\"checkpoints\")"
   ]
  },
  {
   "cell_type": "code",
   "execution_count": null,
   "metadata": {},
   "outputs": [
    {
     "name": "stdout",
     "output_type": "stream",
     "text": [
      "Epoch 1/200\n",
      "58/58 [==============================] - 13s 221ms/step - loss: 0.0576 - val_loss: 0.0432\n",
      "Epoch 2/200\n",
      "58/58 [==============================] - 13s 230ms/step - loss: 0.0332 - val_loss: 0.0210\n",
      "Epoch 3/200\n",
      "58/58 [==============================] - 12s 206ms/step - loss: 0.0208 - val_loss: 0.0151\n",
      "Epoch 4/200\n",
      "58/58 [==============================] - 12s 208ms/step - loss: 0.0155 - val_loss: 0.0121\n",
      "Epoch 5/200\n",
      "58/58 [==============================] - 11s 196ms/step - loss: 0.0129 - val_loss: 0.0115\n",
      "Epoch 6/200\n",
      "58/58 [==============================] - 12s 208ms/step - loss: 0.0110 - val_loss: 0.0099\n",
      "Epoch 7/200\n",
      "58/58 [==============================] - 13s 218ms/step - loss: 0.0098 - val_loss: 0.0098\n",
      "Epoch 8/200\n",
      "58/58 [==============================] - 12s 207ms/step - loss: 0.0091 - val_loss: 0.0089\n",
      "Epoch 9/200\n",
      "58/58 [==============================] - 13s 217ms/step - loss: 0.0082 - val_loss: 0.0087\n",
      "Epoch 10/200\n",
      "58/58 [==============================] - 12s 210ms/step - loss: 0.0079 - val_loss: 0.0108\n",
      "Epoch 11/200\n",
      "58/58 [==============================] - 12s 199ms/step - loss: 0.0073 - val_loss: 0.0078\n",
      "Epoch 12/200\n",
      "58/58 [==============================] - 12s 211ms/step - loss: 0.0069 - val_loss: 0.0078\n",
      "Epoch 13/200\n",
      "58/58 [==============================] - 12s 211ms/step - loss: 0.0064 - val_loss: 0.0068\n",
      "Epoch 14/200\n",
      "58/58 [==============================] - 12s 202ms/step - loss: 0.0063 - val_loss: 0.0066\n",
      "Epoch 15/200\n",
      "58/58 [==============================] - 12s 201ms/step - loss: 0.0057 - val_loss: 0.0064\n",
      "Epoch 16/200\n",
      "58/58 [==============================] - 12s 207ms/step - loss: 0.0054 - val_loss: 0.0068\n",
      "Epoch 17/200\n",
      "58/58 [==============================] - 12s 209ms/step - loss: 0.0052 - val_loss: 0.0065\n",
      "Epoch 18/200\n",
      "58/58 [==============================] - 12s 209ms/step - loss: 0.0051 - val_loss: 0.0069\n",
      "Epoch 19/200\n",
      "58/58 [==============================] - 11s 198ms/step - loss: 0.0053 - val_loss: 0.0061\n",
      "Epoch 20/200\n",
      "58/58 [==============================] - 12s 203ms/step - loss: 0.0043 - val_loss: 0.0062\n",
      "Epoch 21/200\n",
      "58/58 [==============================] - 12s 200ms/step - loss: 0.0042 - val_loss: 0.0060\n",
      "Epoch 22/200\n",
      "58/58 [==============================] - 12s 214ms/step - loss: 0.0041 - val_loss: 0.0060\n",
      "Epoch 23/200\n",
      "58/58 [==============================] - 12s 213ms/step - loss: 0.0040 - val_loss: 0.0057\n",
      "Epoch 24/200\n",
      "58/58 [==============================] - 14s 235ms/step - loss: 0.0038 - val_loss: 0.0059\n",
      "Epoch 25/200\n",
      "58/58 [==============================] - 13s 221ms/step - loss: 0.0035 - val_loss: 0.0048\n",
      "Epoch 26/200\n",
      "58/58 [==============================] - 14s 236ms/step - loss: 0.0036 - val_loss: 0.0055\n",
      "Epoch 27/200\n",
      "58/58 [==============================] - 19s 320ms/step - loss: 0.0038 - val_loss: 0.0059\n",
      "Epoch 28/200\n",
      "58/58 [==============================] - 13s 230ms/step - loss: 0.0031 - val_loss: 0.0061\n",
      "Epoch 29/200\n",
      "58/58 [==============================] - 14s 236ms/step - loss: 0.0030 - val_loss: 0.0061\n",
      "Epoch 30/200\n",
      "58/58 [==============================] - 14s 239ms/step - loss: 0.0028 - val_loss: 0.0059\n",
      "Epoch 31/200\n",
      "58/58 [==============================] - 13s 222ms/step - loss: 0.0027 - val_loss: 0.0059\n",
      "Epoch 32/200\n",
      "58/58 [==============================] - 13s 216ms/step - loss: 0.0029 - val_loss: 0.0071\n",
      "Epoch 33/200\n",
      "58/58 [==============================] - 12s 202ms/step - loss: 0.0027 - val_loss: 0.0062\n",
      "Epoch 34/200\n",
      "58/58 [==============================] - 12s 202ms/step - loss: 0.0024 - val_loss: 0.0062\n",
      "Epoch 35/200\n",
      "58/58 [==============================] - 12s 204ms/step - loss: 0.0026 - val_loss: 0.0080\n",
      "Epoch 36/200\n",
      "58/58 [==============================] - 11s 182ms/step - loss: 0.0038 - val_loss: 0.0074\n",
      "Epoch 37/200\n",
      "58/58 [==============================] - 8s 137ms/step - loss: 0.0031 - val_loss: 0.0066\n",
      "Epoch 38/200\n",
      "58/58 [==============================] - 10s 179ms/step - loss: 0.0024 - val_loss: 0.0058\n",
      "Epoch 39/200\n",
      "58/58 [==============================] - 12s 199ms/step - loss: 0.0023 - val_loss: 0.0055\n",
      "Epoch 40/200\n",
      "58/58 [==============================] - 9s 150ms/step - loss: 0.0021 - val_loss: 0.0063\n",
      "Epoch 41/200\n",
      "58/58 [==============================] - 9s 162ms/step - loss: 0.0022 - val_loss: 0.0071\n",
      "Epoch 42/200\n",
      "58/58 [==============================] - 9s 149ms/step - loss: 0.0019 - val_loss: 0.0060\n",
      "Epoch 43/200\n",
      "58/58 [==============================] - 9s 152ms/step - loss: 0.0021 - val_loss: 0.0080\n",
      "Epoch 44/200\n",
      "58/58 [==============================] - 9s 157ms/step - loss: 0.0034 - val_loss: 0.0080\n",
      "Epoch 45/200\n",
      "58/58 [==============================] - 9s 149ms/step - loss: 0.0031 - val_loss: 0.0068\n",
      "Epoch 46/200\n",
      "58/58 [==============================] - 8s 145ms/step - loss: 0.0028 - val_loss: 0.0106\n",
      "Epoch 47/200\n",
      "58/58 [==============================] - 9s 157ms/step - loss: 0.0037 - val_loss: 0.0079\n",
      "Epoch 48/200\n",
      "58/58 [==============================] - 9s 154ms/step - loss: 0.0030 - val_loss: 0.0094\n",
      "Epoch 49/200\n",
      "58/58 [==============================] - 9s 155ms/step - loss: 0.0022 - val_loss: 0.0084\n",
      "Epoch 50/200\n",
      "58/58 [==============================] - 9s 150ms/step - loss: 0.0020 - val_loss: 0.0071\n",
      "Epoch 51/200\n",
      "58/58 [==============================] - 10s 164ms/step - loss: 0.0017 - val_loss: 0.0071\n",
      "Epoch 52/200\n",
      "58/58 [==============================] - 9s 161ms/step - loss: 0.0015 - val_loss: 0.0066\n",
      "Epoch 53/200\n",
      "58/58 [==============================] - 9s 159ms/step - loss: 0.0015 - val_loss: 0.0075\n",
      "Epoch 54/200\n",
      "58/58 [==============================] - 9s 152ms/step - loss: 0.0016 - val_loss: 0.0069\n",
      "Epoch 55/200\n",
      "58/58 [==============================] - 10s 168ms/step - loss: 0.0019 - val_loss: 0.0080\n",
      "Epoch 56/200\n",
      "58/58 [==============================] - 9s 150ms/step - loss: 0.0016 - val_loss: 0.0072\n",
      "Epoch 57/200\n",
      "58/58 [==============================] - 8s 143ms/step - loss: 0.0016 - val_loss: 0.0077\n",
      "Epoch 58/200\n",
      "58/58 [==============================] - 9s 160ms/step - loss: 0.0014 - val_loss: 0.0078\n",
      "Epoch 59/200\n",
      "58/58 [==============================] - 9s 154ms/step - loss: 0.0023 - val_loss: 0.0080\n",
      "Epoch 60/200\n",
      "58/58 [==============================] - 9s 155ms/step - loss: 0.0017 - val_loss: 0.0073\n",
      "Epoch 61/200\n",
      "58/58 [==============================] - 11s 187ms/step - loss: 0.0020 - val_loss: 0.0105\n",
      "Epoch 62/200\n",
      "58/58 [==============================] - 10s 169ms/step - loss: 0.0025 - val_loss: 0.0084\n",
      "Epoch 63/200\n",
      "58/58 [==============================] - 9s 160ms/step - loss: 0.0016 - val_loss: 0.0090\n",
      "Epoch 64/200\n",
      "58/58 [==============================] - 9s 161ms/step - loss: 0.0020 - val_loss: 0.0082\n",
      "Epoch 65/200\n",
      "58/58 [==============================] - 9s 162ms/step - loss: 0.0019 - val_loss: 0.0075\n",
      "Epoch 66/200\n",
      "58/58 [==============================] - 9s 156ms/step - loss: 0.0013 - val_loss: 0.0082\n",
      "Epoch 67/200\n",
      "58/58 [==============================] - 10s 166ms/step - loss: 0.0012 - val_loss: 0.0081\n",
      "Epoch 68/200\n",
      "58/58 [==============================] - 9s 159ms/step - loss: 0.0011 - val_loss: 0.0077\n",
      "Epoch 69/200\n",
      "58/58 [==============================] - 9s 158ms/step - loss: 0.0011 - val_loss: 0.0078\n",
      "Epoch 70/200\n",
      "58/58 [==============================] - 9s 163ms/step - loss: 0.0011 - val_loss: 0.0079\n",
      "Epoch 71/200\n",
      "58/58 [==============================] - 9s 153ms/step - loss: 0.0011 - val_loss: 0.0085\n",
      "Epoch 72/200\n",
      "58/58 [==============================] - 10s 166ms/step - loss: 0.0010 - val_loss: 0.0083\n",
      "Epoch 73/200\n",
      "58/58 [==============================] - 9s 153ms/step - loss: 0.0010 - val_loss: 0.0083\n",
      "Epoch 74/200\n",
      "58/58 [==============================] - 9s 151ms/step - loss: 9.7733e-04 - val_loss: 0.0081\n",
      "Epoch 75/200\n",
      "58/58 [==============================] - 9s 159ms/step - loss: 0.0012 - val_loss: 0.0113\n",
      "Epoch 76/200\n",
      "58/58 [==============================] - 8s 135ms/step - loss: 0.0024 - val_loss: 0.0093\n",
      "Epoch 77/200\n",
      "58/58 [==============================] - 10s 168ms/step - loss: 0.0019 - val_loss: 0.0097\n",
      "Epoch 78/200\n",
      "58/58 [==============================] - 9s 158ms/step - loss: 0.0017 - val_loss: 0.0082\n",
      "Epoch 79/200\n",
      "58/58 [==============================] - 9s 156ms/step - loss: 0.0019 - val_loss: 0.0098\n",
      "Epoch 80/200\n",
      "58/58 [==============================] - 10s 177ms/step - loss: 0.0017 - val_loss: 0.0099\n"
     ]
    },
    {
     "name": "stdout",
     "output_type": "stream",
     "text": [
      "Epoch 81/200\n",
      "58/58 [==============================] - 9s 161ms/step - loss: 0.0013 - val_loss: 0.0095\n",
      "Epoch 82/200\n",
      "58/58 [==============================] - 9s 159ms/step - loss: 0.0015 - val_loss: 0.0093\n",
      "Epoch 83/200\n",
      "58/58 [==============================] - 10s 173ms/step - loss: 0.0014 - val_loss: 0.0088\n",
      "Epoch 84/200\n",
      "58/58 [==============================] - 8s 145ms/step - loss: 0.0010 - val_loss: 0.0088\n",
      "Epoch 85/200\n",
      "58/58 [==============================] - 9s 148ms/step - loss: 9.2475e-04 - val_loss: 0.0085\n",
      "Epoch 86/200\n",
      "58/58 [==============================] - 9s 160ms/step - loss: 8.8457e-04 - val_loss: 0.0086\n",
      "Epoch 87/200\n",
      "58/58 [==============================] - 8s 141ms/step - loss: 0.0014 - val_loss: 0.0092\n",
      "Epoch 88/200\n",
      "58/58 [==============================] - 9s 154ms/step - loss: 0.0011 - val_loss: 0.0096\n",
      "Epoch 89/200\n",
      "58/58 [==============================] - 9s 158ms/step - loss: 9.9361e-04 - val_loss: 0.0088\n",
      "Epoch 90/200\n",
      "58/58 [==============================] - 10s 171ms/step - loss: 8.8460e-04 - val_loss: 0.0087\n",
      "Epoch 91/200\n",
      "58/58 [==============================] - 10s 165ms/step - loss: 8.3080e-04 - val_loss: 0.0094\n",
      "Epoch 92/200\n",
      "58/58 [==============================] - 9s 151ms/step - loss: 8.5661e-04 - val_loss: 0.0094\n",
      "Epoch 93/200\n",
      "58/58 [==============================] - 10s 170ms/step - loss: 9.5931e-04 - val_loss: 0.0098\n",
      "Epoch 94/200\n",
      "58/58 [==============================] - 10s 167ms/step - loss: 0.0019 - val_loss: 0.0116\n",
      "Epoch 95/200\n",
      "58/58 [==============================] - 10s 172ms/step - loss: 0.0018 - val_loss: 0.0096\n",
      "Epoch 96/200\n",
      "58/58 [==============================] - 9s 155ms/step - loss: 0.0010 - val_loss: 0.0095\n",
      "Epoch 97/200\n",
      "58/58 [==============================] - 9s 159ms/step - loss: 8.7295e-04 - val_loss: 0.0094\n",
      "Epoch 98/200\n",
      "58/58 [==============================] - 10s 178ms/step - loss: 8.3510e-04 - val_loss: 0.0085\n",
      "Epoch 99/200\n",
      "58/58 [==============================] - 9s 154ms/step - loss: 7.6127e-04 - val_loss: 0.0089\n",
      "Epoch 100/200\n",
      "58/58 [==============================] - 10s 168ms/step - loss: 7.4775e-04 - val_loss: 0.0093\n",
      "Epoch 101/200\n",
      "58/58 [==============================] - 9s 161ms/step - loss: 7.0790e-04 - val_loss: 0.0091\n",
      "Epoch 102/200\n",
      "58/58 [==============================] - 9s 159ms/step - loss: 7.7348e-04 - val_loss: 0.0095\n",
      "Epoch 103/200\n",
      "58/58 [==============================] - 9s 150ms/step - loss: 8.0881e-04 - val_loss: 0.0094\n",
      "Epoch 104/200\n",
      "58/58 [==============================] - 9s 158ms/step - loss: 7.5647e-04 - val_loss: 0.0092\n",
      "Epoch 105/200\n",
      "58/58 [==============================] - 8s 145ms/step - loss: 7.4920e-04 - val_loss: 0.0092\n",
      "Epoch 106/200\n",
      "58/58 [==============================] - 9s 160ms/step - loss: 7.1565e-04 - val_loss: 0.0091\n",
      "Epoch 107/200\n",
      "58/58 [==============================] - 9s 163ms/step - loss: 7.2586e-04 - val_loss: 0.0095\n",
      "Epoch 108/200\n",
      "58/58 [==============================] - 9s 162ms/step - loss: 6.5371e-04 - val_loss: 0.0109\n",
      "Epoch 109/200\n",
      "58/58 [==============================] - 9s 158ms/step - loss: 6.5760e-04 - val_loss: 0.0093\n",
      "Epoch 110/200\n",
      "58/58 [==============================] - 9s 158ms/step - loss: 7.0380e-04 - val_loss: 0.0106\n",
      "Epoch 111/200\n",
      "58/58 [==============================] - 9s 150ms/step - loss: 6.6182e-04 - val_loss: 0.0104\n",
      "Epoch 112/200\n",
      "58/58 [==============================] - 9s 147ms/step - loss: 0.0012 - val_loss: 0.0106\n",
      "Epoch 113/200\n",
      "58/58 [==============================] - 9s 156ms/step - loss: 0.0017 - val_loss: 0.0111\n",
      "Epoch 114/200\n",
      "58/58 [==============================] - 10s 167ms/step - loss: 0.0145 - val_loss: 0.0282\n",
      "Epoch 115/200\n",
      "58/58 [==============================] - 10s 165ms/step - loss: 0.0177 - val_loss: 0.0178\n",
      "Epoch 116/200\n",
      "58/58 [==============================] - 10s 168ms/step - loss: 0.0083 - val_loss: 0.0173\n",
      "Epoch 117/200\n",
      "58/58 [==============================] - 10s 164ms/step - loss: 0.0061 - val_loss: 0.0133\n",
      "Epoch 118/200\n",
      "58/58 [==============================] - 9s 162ms/step - loss: 0.0051 - val_loss: 0.0137\n",
      "Epoch 119/200\n",
      "58/58 [==============================] - 9s 154ms/step - loss: 0.0048 - val_loss: 0.0121\n",
      "Epoch 120/200\n",
      "58/58 [==============================] - 10s 169ms/step - loss: 0.0038 - val_loss: 0.0116\n",
      "Epoch 121/200\n",
      "58/58 [==============================] - 11s 192ms/step - loss: 0.0033 - val_loss: 0.0114\n",
      "Epoch 122/200\n",
      "58/58 [==============================] - 11s 182ms/step - loss: 0.0027 - val_loss: 0.0110\n",
      "Epoch 123/200\n",
      "58/58 [==============================] - 10s 179ms/step - loss: 0.0025 - val_loss: 0.0124\n",
      "Epoch 124/200\n",
      "58/58 [==============================] - 10s 180ms/step - loss: 0.0027 - val_loss: 0.0116\n",
      "Epoch 125/200\n",
      "58/58 [==============================] - 11s 187ms/step - loss: 0.0026 - val_loss: 0.0128\n",
      "Epoch 126/200\n",
      "58/58 [==============================] - 11s 190ms/step - loss: 0.0026 - val_loss: 0.0117\n",
      "Epoch 127/200\n",
      "58/58 [==============================] - 11s 183ms/step - loss: 0.0021 - val_loss: 0.0102\n",
      "Epoch 128/200\n",
      "58/58 [==============================] - 26s 452ms/step - loss: 0.0017 - val_loss: 0.0121\n",
      "Epoch 129/200\n",
      "58/58 [==============================] - 19s 331ms/step - loss: 0.0015 - val_loss: 0.0113\n",
      "Epoch 130/200\n",
      "58/58 [==============================] - 19s 327ms/step - loss: 0.0018 - val_loss: 0.0108\n",
      "Epoch 131/200\n",
      "58/58 [==============================] - 20s 350ms/step - loss: 0.0014 - val_loss: 0.0102\n",
      "Epoch 132/200\n",
      "58/58 [==============================] - 21s 366ms/step - loss: 0.0012 - val_loss: 0.0110\n",
      "Epoch 133/200\n",
      "58/58 [==============================] - 19s 324ms/step - loss: 0.0014 - val_loss: 0.0107\n",
      "Epoch 134/200\n",
      "58/58 [==============================] - 20s 344ms/step - loss: 0.0012 - val_loss: 0.0108\n",
      "Epoch 135/200\n",
      "58/58 [==============================] - 20s 344ms/step - loss: 0.0012 - val_loss: 0.0109\n",
      "Epoch 136/200\n",
      "58/58 [==============================] - 23s 404ms/step - loss: 0.0011 - val_loss: 0.0111\n",
      "Epoch 137/200\n",
      "58/58 [==============================] - 24s 418ms/step - loss: 0.0010 - val_loss: 0.0110\n",
      "Epoch 138/200\n",
      "44/58 [=====================>........] - ETA: 6s - loss: 0.0011"
     ]
    }
   ],
   "source": [
    "history = model.fit(X_train, np.array(Y)[train_set], batch_size=256, epochs=200, validation_data=(X_test, np.array(Y)[test_set]))"
   ]
  },
  {
   "cell_type": "code",
   "execution_count": 16,
   "metadata": {},
   "outputs": [
    {
     "data": {
      "image/png": "[encoded data removed]",
      "text/plain": [
       "<Figure size 800x480 with 1 Axes>"
      ]
     },
     "metadata": {
      "needs_background": "light"
     },
     "output_type": "display_data"
    }
   ],
   "source": [
    "# Plot history: MAE\n",
    "plt.figure(figsize=(10,6), dpi=80)\n",
    "plt.plot(history.history['loss'], label='MSE (training data)')\n",
    "plt.plot(history.history['val_loss'], label='MSE (validation data)')\n",
    "plt.title('MSE over training')\n",
    "plt.ylabel('MSE value')\n",
    "plt.xlabel('No. epoch')\n",
    "plt.legend(loc=\"upper left\")\n",
    "plt.show()"
   ]
  },
  {
   "cell_type": "code",
   "execution_count": 31,
   "metadata": {},
   "outputs": [
    {
     "data": {
      "text/plain": [
       "array([[0.48540208, 0.7891798 ],\n",
       "       [0.8635393 , 0.48561186],\n",
       "       [0.97234714, 0.96777076],\n",
       "       ...,\n",
       "       [0.49780232, 0.23501046],\n",
       "       [0.3897495 , 0.62804484],\n",
       "       [0.693358  , 0.48108467]], dtype=float32)"
      ]
     },
     "execution_count": 31,
     "metadata": {},
     "output_type": "execute_result"
    }
   ],
   "source": [
    "model.predict(X_train)"
   ]
  },
  {
   "cell_type": "code",
   "execution_count": 32,
   "metadata": {},
   "outputs": [
    {
     "name": "stdout",
     "output_type": "stream",
     "text": [
      "WARNING:tensorflow:From C:\\Users\\tangji\\Anaconda3\\lib\\site-packages\\tensorflow\\python\\training\\tracking\\tracking.py:111: Model.state_updates (from tensorflow.python.keras.engine.training) is deprecated and will be removed in a future version.\n",
      "Instructions for updating:\n",
      "This property should not be used in TensorFlow 2.0, as updates are applied automatically.\n"
     ]
    },
    {
     "name": "stderr",
     "output_type": "stream",
     "text": [
      "WARNING:tensorflow:From C:\\Users\\tangji\\Anaconda3\\lib\\site-packages\\tensorflow\\python\\training\\tracking\\tracking.py:111: Model.state_updates (from tensorflow.python.keras.engine.training) is deprecated and will be removed in a future version.\n",
      "Instructions for updating:\n",
      "This property should not be used in TensorFlow 2.0, as updates are applied automatically.\n"
     ]
    },
    {
     "name": "stdout",
     "output_type": "stream",
     "text": [
      "WARNING:tensorflow:From C:\\Users\\tangji\\Anaconda3\\lib\\site-packages\\tensorflow\\python\\training\\tracking\\tracking.py:111: Layer.updates (from tensorflow.python.keras.engine.base_layer) is deprecated and will be removed in a future version.\n",
      "Instructions for updating:\n",
      "This property should not be used in TensorFlow 2.0, as updates are applied automatically.\n"
     ]
    },
    {
     "name": "stderr",
     "output_type": "stream",
     "text": [
      "WARNING:tensorflow:From C:\\Users\\tangji\\Anaconda3\\lib\\site-packages\\tensorflow\\python\\training\\tracking\\tracking.py:111: Layer.updates (from tensorflow.python.keras.engine.base_layer) is deprecated and will be removed in a future version.\n",
      "Instructions for updating:\n",
      "This property should not be used in TensorFlow 2.0, as updates are applied automatically.\n"
     ]
    },
    {
     "name": "stdout",
     "output_type": "stream",
     "text": [
      "INFO:tensorflow:Assets written to: checkpoints\\assets\n"
     ]
    },
    {
     "name": "stderr",
     "output_type": "stream",
     "text": [
      "INFO:tensorflow:Assets written to: checkpoints\\assets\n"
     ]
    }
   ],
   "source": [
    "model.save(\"checkpoints\")"
   ]
  },
  {
   "cell_type": "markdown",
   "metadata": {},
   "source": [
    "# Model pruning"
   ]
  },
  {
   "cell_type": "code",
   "execution_count": 38,
   "metadata": {},
   "outputs": [
    {
     "name": "stderr",
     "output_type": "stream",
     "text": [
      "WARNING:root:Limited tf.compat.v2.summary API due to missing TensorBoard installation.\n",
      "WARNING:root:Limited tf.compat.v2.summary API due to missing TensorBoard installation.\n",
      "WARNING:root:Limited tf.compat.v2.summary API due to missing TensorBoard installation.\n"
     ]
    },
    {
     "name": "stdout",
     "output_type": "stream",
     "text": [
      "Baseline test mse: 0.0001945664407685399\n",
      "Saved baseline model to: C:\\Users\\tangji\\AppData\\Local\\Temp\\tmpwte_it5j.h5\n"
     ]
    }
   ],
   "source": [
    "import tempfile\n",
    "import tensorflow as tf\n",
    "baseline_model_accuracy = model.evaluate(X_test, np.array(Y)[test_set], verbose=0)\n",
    "\n",
    "print('Baseline test mse:', baseline_model_accuracy)\n",
    "\n",
    "_, keras_file = tempfile.mkstemp('.h5')\n",
    "tf.keras.models.save_model(model, keras_file, include_optimizer=False)\n",
    "print('Saved baseline model to:', keras_file)"
   ]
  },
  {
   "cell_type": "code",
   "execution_count": null,
   "metadata": {},
   "outputs": [],
   "source": [
    "import tensorflow_model_optimization as tfmot\n",
    "\n",
    "prune_low_magnitude = tfmot.sparsity.keras.prune_low_magnitude\n",
    "\n",
    "# Compute end step to finish pruning after 2 epochs.\n",
    "batch_size = 256\n",
    "epochs = 2\n",
    "validation_split = 0.1 # 10% of training set will be used for validation set. \n",
    "\n",
    "num_images = len(X_train)\n",
    "end_step = np.ceil(num_images / batch_size).astype(np.int32) * epochs\n",
    "\n",
    "# Define model for pruning.\n",
    "pruning_params = {\n",
    "      'pruning_schedule': tfmot.sparsity.keras.PolynomialDecay(initial_sparsity=0.50,\n",
    "                                                               final_sparsity=0.80,\n",
    "                                                               begin_step=0,\n",
    "                                                               end_step=end_step)\n",
    "}\n",
    "\n",
    "model_for_pruning = prune_low_magnitude(model, **pruning_params)\n",
    "\n",
    "# `prune_low_magnitude` requires a recompile.\n",
    "model_for_pruning.compile(optimizer='adam',\n",
    "              loss=\"mse\")\n",
    "\n",
    "model_for_pruning.summary()"
   ]
  },
  {
   "cell_type": "code",
   "execution_count": 44,
   "metadata": {},
   "outputs": [
    {
     "name": "stdout",
     "output_type": "stream",
     "text": [
      "Epoch 1/2\n",
      "35/35 [==============================] - 7s 197ms/step - loss: 0.0020 - val_loss: 8.2082e-04\n",
      "Epoch 2/2\n",
      "35/35 [==============================] - 6s 165ms/step - loss: 5.5117e-04 - val_loss: 5.0256e-04\n"
     ]
    },
    {
     "data": {
      "text/plain": [
       "<tensorflow.python.keras.callbacks.History at 0x2d105645448>"
      ]
     },
     "execution_count": 44,
     "metadata": {},
     "output_type": "execute_result"
    }
   ],
   "source": [
    "logdir = tempfile.mkdtemp()\n",
    "\n",
    "callbacks = [\n",
    "  tfmot.sparsity.keras.UpdatePruningStep(),\n",
    "#   tfmot.sparsity.keras.PruningSummaries(log_dir=logdir),\n",
    "]\n",
    "\n",
    "model_for_pruning.fit(X_train, np.array(Y)[train_set],\n",
    "                  batch_size=batch_size, epochs=epochs, validation_split=validation_split,\n",
    "                  callbacks=callbacks)"
   ]
  },
  {
   "cell_type": "code",
   "execution_count": 46,
   "metadata": {},
   "outputs": [
    {
     "name": "stdout",
     "output_type": "stream",
     "text": [
      "Baseline test accuracy: 0.0001945664407685399\n",
      "Pruned test accuracy: 0.0006044685142114758\n"
     ]
    }
   ],
   "source": [
    "model_for_pruning_accuracy = model_for_pruning.evaluate(X_test, np.array(Y)[test_set], verbose=0)\n",
    "\n",
    "print('Baseline test mse:', baseline_model_accuracy) \n",
    "print('Pruned test mse:', model_for_pruning_accuracy)"
   ]
  },
  {
   "cell_type": "code",
   "execution_count": 47,
   "metadata": {},
   "outputs": [
    {
     "name": "stdout",
     "output_type": "stream",
     "text": [
      "Saved pruned Keras model to: C:\\Users\\tangji\\AppData\\Local\\Temp\\tmpa75egrmq.h5\n"
     ]
    }
   ],
   "source": [
    "model_for_export = tfmot.sparsity.keras.strip_pruning(model_for_pruning)\n",
    "\n",
    "_, pruned_keras_file = tempfile.mkstemp('.h5')\n",
    "tf.keras.models.save_model(model_for_export, pruned_keras_file, include_optimizer=False)\n",
    "print('Saved pruned Keras model to:', pruned_keras_file)"
   ]
  },
  {
   "cell_type": "code",
   "execution_count": null,
   "metadata": {},
   "outputs": [],
   "source": [
    "converter = tf.lite.TFLiteConverter.from_keras_model(model_for_export)\n",
    "pruned_tflite_model = converter.convert()\n",
    "\n",
    "_, pruned_tflite_file = tempfile.mkstemp('.tflite')\n",
    "\n",
    "with open(pruned_tflite_file, 'wb') as f:\n",
    "  f.write(pruned_tflite_model)\n",
    "\n",
    "print('Saved pruned TFLite model to:', pruned_tflite_file)"
   ]
  },
  {
   "cell_type": "code",
   "execution_count": 52,
   "metadata": {},
   "outputs": [],
   "source": [
    "def get_gzipped_model_size(file):\n",
    "  # Returns size of gzipped model, in bytes.\n",
    "    import os\n",
    "    import zipfile\n",
    "\n",
    "    _, zipped_file = tempfile.mkstemp('.zip')\n",
    "    with zipfile.ZipFile(zipped_file, 'w', compression=zipfile.ZIP_DEFLATED) as f:\n",
    "    f.write(file)\n",
    "\n",
    "    return os.path.getsize(zipped_file)"
   ]
  },
  {
   "cell_type": "code",
   "execution_count": 53,
   "metadata": {},
   "outputs": [
    {
     "name": "stdout",
     "output_type": "stream",
     "text": [
      "Size of gzipped baseline Keras model: 2078743.00 bytes\n",
      "Size of gzipped pruned Keras model: 1271213.00 bytes\n",
      "Size of gzipped pruned TFlite model: 1268627.00 bytes\n"
     ]
    }
   ],
   "source": [
    "print(\"Size of gzipped baseline Keras model: %.2f bytes\" % (get_gzipped_model_size(keras_file)))\n",
    "print(\"Size of gzipped pruned Keras model: %.2f bytes\" % (get_gzipped_model_size(pruned_keras_file)))\n",
    "print(\"Size of gzipped pruned TFlite model: %.2f bytes\" % (get_gzipped_model_size(pruned_tflite_file)))"
   ]
  },
  {
   "cell_type": "code",
   "execution_count": null,
   "metadata": {},
   "outputs": [],
   "source": []
  }
 ],
 "metadata": {
  "kernelspec": {
   "display_name": "Python 3",
   "language": "python",
   "name": "python3"
  },
  "language_info": {
   "codemirror_mode": {
    "name": "ipython",
    "version": 3
   },
   "file_extension": ".py",
   "mimetype": "text/x-python",
   "name": "python",
   "nbconvert_exporter": "python",
   "pygments_lexer": "ipython3",
   "version": "3.7.7"
  }
 },
 "nbformat": 4,
 "nbformat_minor": 4
}
