{
 "cells": [
  {
   "cell_type": "code",
   "execution_count": 1,
   "metadata": {},
   "outputs": [],
   "source": [
    "import numpy as np\n",
    "import cv2, os, pyautogui, time\n",
    "from PIL import Image\n",
    "import matplotlib.pyplot as plt\n",
    "import warnings\n",
    "\n",
    "from src.face_features import *\n",
    "from src.tools import *\n",
    "\n",
    "width, height= pyautogui.size()"
   ]
  },
  {
   "cell_type": "code",
   "execution_count": 2,
   "metadata": {},
   "outputs": [],
   "source": [
    "cap = cv2.VideoCapture(0)\n",
    "ret, frame = cap.read()\n",
    "cv2.destroyAllWindows()\n",
    "cap.release()"
   ]
  },
  {
   "cell_type": "code",
   "execution_count": 3,
   "metadata": {},
   "outputs": [],
   "source": [
    "face_features = extract_image_features(frame)\n",
    "# show_extraction_results(face_features)"
   ]
  },
  {
   "cell_type": "code",
   "execution_count": 40,
   "metadata": {},
   "outputs": [
    {
     "name": "stdout",
     "output_type": "stream",
     "text": [
      "Model: \"functional_21\"\n",
      "__________________________________________________________________________________________________\n",
      "Layer (type)                    Output Shape         Param #     Connected to                     \n",
      "==================================================================================================\n",
      "input_77 (InputLayer)           [(None, 64, 64, 1)]  0                                            \n",
      "__________________________________________________________________________________________________\n",
      "input_78 (InputLayer)           [(None, 64, 64, 1)]  0                                            \n",
      "__________________________________________________________________________________________________\n",
      "input_79 (InputLayer)           [(None, 64, 64, 1)]  0                                            \n",
      "__________________________________________________________________________________________________\n",
      "conv2d_147 (Conv2D)             (None, 60, 60, 128)  3328        input_77[0][0]                   \n",
      "__________________________________________________________________________________________________\n",
      "conv2d_150 (Conv2D)             (None, 60, 60, 128)  3328        input_78[0][0]                   \n",
      "__________________________________________________________________________________________________\n",
      "conv2d_153 (Conv2D)             (None, 60, 60, 128)  3328        input_79[0][0]                   \n",
      "__________________________________________________________________________________________________\n",
      "max_pooling2d_131 (MaxPooling2D (None, 30, 30, 128)  0           conv2d_147[0][0]                 \n",
      "__________________________________________________________________________________________________\n",
      "max_pooling2d_134 (MaxPooling2D (None, 30, 30, 128)  0           conv2d_150[0][0]                 \n",
      "__________________________________________________________________________________________________\n",
      "max_pooling2d_137 (MaxPooling2D (None, 30, 30, 128)  0           conv2d_153[0][0]                 \n",
      "__________________________________________________________________________________________________\n",
      "conv2d_148 (Conv2D)             (None, 14, 14, 64)   73792       max_pooling2d_131[0][0]          \n",
      "__________________________________________________________________________________________________\n",
      "conv2d_151 (Conv2D)             (None, 14, 14, 64)   73792       max_pooling2d_134[0][0]          \n",
      "__________________________________________________________________________________________________\n",
      "conv2d_154 (Conv2D)             (None, 14, 14, 64)   73792       max_pooling2d_137[0][0]          \n",
      "__________________________________________________________________________________________________\n",
      "max_pooling2d_132 (MaxPooling2D (None, 7, 7, 64)     0           conv2d_148[0][0]                 \n",
      "__________________________________________________________________________________________________\n",
      "max_pooling2d_135 (MaxPooling2D (None, 7, 7, 64)     0           conv2d_151[0][0]                 \n",
      "__________________________________________________________________________________________________\n",
      "max_pooling2d_138 (MaxPooling2D (None, 7, 7, 64)     0           conv2d_154[0][0]                 \n",
      "__________________________________________________________________________________________________\n",
      "conv2d_149 (Conv2D)             (None, 5, 5, 64)     36928       max_pooling2d_132[0][0]          \n",
      "__________________________________________________________________________________________________\n",
      "conv2d_152 (Conv2D)             (None, 5, 5, 64)     36928       max_pooling2d_135[0][0]          \n",
      "__________________________________________________________________________________________________\n",
      "conv2d_155 (Conv2D)             (None, 5, 5, 64)     36928       max_pooling2d_138[0][0]          \n",
      "__________________________________________________________________________________________________\n",
      "max_pooling2d_133 (MaxPooling2D (None, 2, 2, 64)     0           conv2d_149[0][0]                 \n",
      "__________________________________________________________________________________________________\n",
      "max_pooling2d_136 (MaxPooling2D (None, 2, 2, 64)     0           conv2d_152[0][0]                 \n",
      "__________________________________________________________________________________________________\n",
      "max_pooling2d_139 (MaxPooling2D (None, 2, 2, 64)     0           conv2d_155[0][0]                 \n",
      "__________________________________________________________________________________________________\n",
      "reshape_31 (Reshape)            (None, 1, 256)       0           max_pooling2d_133[0][0]          \n",
      "__________________________________________________________________________________________________\n",
      "reshape_32 (Reshape)            (None, 1, 256)       0           max_pooling2d_136[0][0]          \n",
      "__________________________________________________________________________________________________\n",
      "reshape_33 (Reshape)            (None, 1, 256)       0           max_pooling2d_139[0][0]          \n",
      "__________________________________________________________________________________________________\n",
      "concatenate_20 (Concatenate)    (None, 1, 512)       0           reshape_31[0][0]                 \n",
      "                                                                 reshape_32[0][0]                 \n",
      "__________________________________________________________________________________________________\n",
      "dense_71 (Dense)                (None, 1, 128)       32896       reshape_33[0][0]                 \n",
      "__________________________________________________________________________________________________\n",
      "input_80 (InputLayer)           [(None, 625)]        0                                            \n",
      "__________________________________________________________________________________________________\n",
      "dense_70 (Dense)                (None, 1, 128)       65664       concatenate_20[0][0]             \n",
      "__________________________________________________________________________________________________\n",
      "dense_72 (Dense)                (None, 1, 64)        8256        dense_71[0][0]                   \n",
      "__________________________________________________________________________________________________\n",
      "dense_73 (Dense)                (None, 128)          80128       input_80[0][0]                   \n",
      "__________________________________________________________________________________________________\n",
      "flatten_20 (Flatten)            (None, 128)          0           dense_70[0][0]                   \n",
      "__________________________________________________________________________________________________\n",
      "flatten_21 (Flatten)            (None, 64)           0           dense_72[0][0]                   \n",
      "__________________________________________________________________________________________________\n",
      "dense_74 (Dense)                (None, 128)          16512       dense_73[0][0]                   \n",
      "__________________________________________________________________________________________________\n",
      "concatenate_21 (Concatenate)    (None, 320)          0           flatten_20[0][0]                 \n",
      "                                                                 flatten_21[0][0]                 \n",
      "                                                                 dense_74[0][0]                   \n",
      "__________________________________________________________________________________________________\n",
      "dense_75 (Dense)                (None, 256)          82176       concatenate_21[0][0]             \n",
      "__________________________________________________________________________________________________\n",
      "dense_76 (Dense)                (None, 2)            514         dense_75[0][0]                   \n",
      "==================================================================================================\n",
      "Total params: 628,290\n",
      "Trainable params: 628,290\n",
      "Non-trainable params: 0\n",
      "__________________________________________________________________________________________________\n"
     ]
    }
   ],
   "source": [
    "img_size = 64\n",
    "n_channel = 1\n",
    "mask_size = 25\n",
    "\n",
    "conv1_eye_size = 5\n",
    "conv1_eye_out = 128\n",
    "conv1_eye_strides = 1\n",
    "pool1_eye_size = 2\n",
    "pool1_eye_stride = 2\n",
    "\n",
    "conv2_eye_size = 3\n",
    "conv2_eye_out = 64\n",
    "conv2_eye_strides = 2\n",
    "pool2_eye_size = 2\n",
    "pool2_eye_stride = 2\n",
    "\n",
    "conv3_eye_size = 3\n",
    "conv3_eye_out = 64\n",
    "pool3_eye_size = 2\n",
    "pool3_eye_stride = 2\n",
    "\n",
    "# conv4_eye_size = 1\n",
    "# conv4_eye_out = 64\n",
    "# pool4_eye_size = 2\n",
    "# pool4_eye_stride = 2\n",
    "\n",
    "conv1_face_size = 5\n",
    "conv1_face_out = 128\n",
    "conv1_face_strides = 1\n",
    "pool1_face_size = 2\n",
    "pool1_face_stride = 2\n",
    "\n",
    "conv2_face_size = 3\n",
    "conv2_face_out = 64\n",
    "conv2_face_strides = 2\n",
    "pool2_face_size = 2\n",
    "pool2_face_stride = 2\n",
    "\n",
    "conv3_face_size = 3\n",
    "conv3_face_out = 64\n",
    "pool3_face_size = 2\n",
    "pool3_face_stride = 2\n",
    "\n",
    "# conv4_face_size = 1\n",
    "# conv4_face_out = 64\n",
    "# pool4_face_size = 2\n",
    "# pool4_face_stride = 2\n",
    "\n",
    "fc_eye_size = 128\n",
    "fc_face_size = 128\n",
    "fc2_face_size = 64\n",
    "fc_face_mask_size = 128\n",
    "fc2_face_mask_size = 128\n",
    "fc_size = 256\n",
    "fc2_size = 2\n",
    "\n",
    "from keras.layers import *\n",
    "from keras.models import Model\n",
    "from keras.layers.advanced_activations import LeakyReLU\n",
    "# from src.model_config import *\n",
    "\n",
    "import numpy as np\n",
    "\n",
    "right_input = Input(shape=(img_size, img_size, n_channel))\n",
    "left_input = Input(shape=(img_size, img_size, n_channel))\n",
    "face_input = Input(shape=(img_size, img_size, n_channel))\n",
    "mask_input = Input(shape=(mask_size * mask_size,))\n",
    "\n",
    "conv1_right = Conv2D(conv1_eye_out, kernel_size=conv1_eye_size, strides=conv1_eye_strides)(right_input)\n",
    "conv1_pool_right = MaxPooling2D(pool_size=pool1_eye_size, strides=pool1_eye_stride)(conv1_right)\n",
    "conv2_right = Conv2D(conv2_eye_out, kernel_size=conv2_eye_size, strides=conv2_eye_strides)(conv1_pool_right)\n",
    "conv2_pool_right = MaxPooling2D(pool_size=pool2_eye_size, strides=pool2_eye_stride)(conv2_right)\n",
    "conv3_right = Conv2D(conv3_eye_out, kernel_size=conv3_eye_size)(conv2_pool_right)\n",
    "conv3_pool_right = MaxPooling2D(pool_size=pool3_eye_size, strides=pool3_eye_stride)(conv3_right)\n",
    "# conv4_right = Conv2D(conv4_eye_out, kernel_size=conv4_eye_size)(conv3_pool_right)\n",
    "# conv4_pool_right = MaxPooling2D(pool_size=pool4_eye_size, strides=pool4_eye_stride)(conv4_right)\n",
    "\n",
    "conv1_left = Conv2D(conv1_eye_out, kernel_size=conv1_eye_size, strides=conv1_eye_strides)(left_input)\n",
    "conv1_pool_left = MaxPooling2D(pool_size=pool1_eye_size, strides=pool1_eye_stride)(conv1_left)\n",
    "conv2_left = Conv2D(conv2_eye_out, kernel_size=conv2_eye_size, strides=conv2_eye_strides)(conv1_pool_left)\n",
    "conv2_pool_left = MaxPooling2D(pool_size=pool2_eye_size, strides=pool2_eye_stride)(conv2_left)\n",
    "conv3_left = Conv2D(conv3_eye_out, kernel_size=conv3_eye_size)(conv2_pool_left)\n",
    "conv3_pool_left = MaxPooling2D(pool_size=pool3_eye_size, strides=pool3_eye_stride)(conv3_left)\n",
    "# conv4_left = Conv2D(conv4_eye_out, kernel_size=conv4_eye_size)(conv3_pool_left)\n",
    "# conv4_pool_left = MaxPooling2D(pool_size=pool4_eye_size, strides=pool4_eye_stride)(conv4_left)\n",
    "\n",
    "conv1_face = Conv2D(conv1_face_out, kernel_size=conv1_face_size, strides=conv1_face_strides)(face_input)\n",
    "conv1_pool_face = MaxPooling2D(pool_size=pool1_face_size, strides=pool1_face_stride)(conv1_face)\n",
    "conv2_face = Conv2D(conv2_face_out, kernel_size=conv2_eye_size, strides=conv2_face_strides)(conv1_pool_face)\n",
    "conv2_pool_face = MaxPooling2D(pool_size=pool2_face_size, strides=pool2_face_stride)(conv2_face)\n",
    "conv3_face = Conv2D(conv3_face_out, kernel_size=conv3_eye_size)(conv2_pool_face)\n",
    "conv3_pool_face = MaxPooling2D(pool_size=pool3_face_size, strides=pool3_face_stride)(conv3_face)\n",
    "# conv4_face = Conv2D(conv4_eye_out, kernel_size=conv4_eye_size)(conv3_pool_face)\n",
    "# conv4_pool_face = MaxPooling2D(pool_size=pool4_eye_size, strides=pool4_eye_stride)(conv4_face)\n",
    "\n",
    "right_out = Reshape([-1, int(np.prod(conv3_pool_right.get_shape()[1:]))])(conv3_pool_right)\n",
    "left_out = Reshape([-1, int(np.prod(conv3_pool_left.get_shape()[1:]))])(conv3_pool_left)\n",
    "\n",
    "eyes = Concatenate(axis=-1)([right_out, left_out])\n",
    "eyes = Dense(fc_eye_size, activation=\"relu\")(eyes)\n",
    "eyes = Flatten()(eyes)\n",
    "\n",
    "face = Reshape([-1, int(np.prod(conv3_pool_face.get_shape()[1:]))])(conv3_pool_face)\n",
    "face = Dense(fc_face_size, activation=\"relu\")(face)\n",
    "face = Dense(fc2_face_size, activation=\"relu\")(face)\n",
    "face = Flatten()(face)\n",
    "\n",
    "face_mask = Dense(fc_face_mask_size, activation=\"relu\")(mask_input)\n",
    "face_mask = Dense(fc2_face_mask_size, activation=\"relu\")(face_mask)\n",
    "\n",
    "fc = Concatenate(axis=-1)([eyes, face, face_mask])\n",
    "fc2 = Dense(fc_size, activation=\"relu\")(fc)\n",
    "out = Dense(fc2_size, activation=\"sigmoid\")(fc2)\n",
    "\n",
    "model = Model([left_input, right_input, face_input, mask_input], out)\n",
    "model.compile(optimizer='adam', loss=\"mse\")\n",
    "model.summary() "
   ]
  },
  {
   "cell_type": "code",
   "execution_count": 11,
   "metadata": {},
   "outputs": [
    {
     "name": "stdout",
     "output_type": "stream",
     "text": [
      "Model: \"functional_1\"\n",
      "__________________________________________________________________________________________________\n",
      "Layer (type)                    Output Shape         Param #     Connected to                     \n",
      "==================================================================================================\n",
      "input_1 (InputLayer)            [(None, 64, 64, 3)]  0                                            \n",
      "__________________________________________________________________________________________________\n",
      "input_2 (InputLayer)            [(None, 64, 64, 3)]  0                                            \n",
      "__________________________________________________________________________________________________\n",
      "input_3 (InputLayer)            [(None, 64, 64, 3)]  0                                            \n",
      "__________________________________________________________________________________________________\n",
      "conv2d (Conv2D)                 (None, 54, 54, 32)   11648       input_1[0][0]                    \n",
      "__________________________________________________________________________________________________\n",
      "conv2d_4 (Conv2D)               (None, 54, 54, 32)   11648       input_2[0][0]                    \n",
      "__________________________________________________________________________________________________\n",
      "conv2d_8 (Conv2D)               (None, 54, 54, 32)   11648       input_3[0][0]                    \n",
      "__________________________________________________________________________________________________\n",
      "average_pooling2d (AveragePooli (None, 27, 27, 32)   0           conv2d[0][0]                     \n",
      "__________________________________________________________________________________________________\n",
      "average_pooling2d_4 (AveragePoo (None, 27, 27, 32)   0           conv2d_4[0][0]                   \n",
      "__________________________________________________________________________________________________\n",
      "average_pooling2d_8 (AveragePoo (None, 27, 27, 32)   0           conv2d_8[0][0]                   \n",
      "__________________________________________________________________________________________________\n",
      "conv2d_1 (Conv2D)               (None, 21, 21, 32)   50208       average_pooling2d[0][0]          \n",
      "__________________________________________________________________________________________________\n",
      "conv2d_5 (Conv2D)               (None, 21, 21, 32)   50208       average_pooling2d_4[0][0]        \n",
      "__________________________________________________________________________________________________\n",
      "conv2d_9 (Conv2D)               (None, 21, 21, 32)   50208       average_pooling2d_8[0][0]        \n",
      "__________________________________________________________________________________________________\n",
      "average_pooling2d_1 (AveragePoo (None, 10, 10, 32)   0           conv2d_1[0][0]                   \n",
      "__________________________________________________________________________________________________\n",
      "average_pooling2d_5 (AveragePoo (None, 10, 10, 32)   0           conv2d_5[0][0]                   \n",
      "__________________________________________________________________________________________________\n",
      "average_pooling2d_9 (AveragePoo (None, 10, 10, 32)   0           conv2d_9[0][0]                   \n",
      "__________________________________________________________________________________________________\n",
      "conv2d_2 (Conv2D)               (None, 8, 8, 64)     18496       average_pooling2d_1[0][0]        \n",
      "__________________________________________________________________________________________________\n",
      "conv2d_6 (Conv2D)               (None, 8, 8, 64)     18496       average_pooling2d_5[0][0]        \n",
      "__________________________________________________________________________________________________\n",
      "conv2d_10 (Conv2D)              (None, 8, 8, 64)     18496       average_pooling2d_9[0][0]        \n",
      "__________________________________________________________________________________________________\n",
      "average_pooling2d_2 (AveragePoo (None, 4, 4, 64)     0           conv2d_2[0][0]                   \n",
      "__________________________________________________________________________________________________\n",
      "average_pooling2d_6 (AveragePoo (None, 4, 4, 64)     0           conv2d_6[0][0]                   \n",
      "__________________________________________________________________________________________________\n",
      "average_pooling2d_10 (AveragePo (None, 4, 4, 64)     0           conv2d_10[0][0]                  \n",
      "__________________________________________________________________________________________________\n",
      "conv2d_3 (Conv2D)               (None, 4, 4, 64)     4160        average_pooling2d_2[0][0]        \n",
      "__________________________________________________________________________________________________\n",
      "conv2d_7 (Conv2D)               (None, 4, 4, 64)     4160        average_pooling2d_6[0][0]        \n",
      "__________________________________________________________________________________________________\n",
      "conv2d_11 (Conv2D)              (None, 4, 4, 64)     4160        average_pooling2d_10[0][0]       \n",
      "__________________________________________________________________________________________________\n",
      "average_pooling2d_3 (AveragePoo (None, 2, 2, 64)     0           conv2d_3[0][0]                   \n",
      "__________________________________________________________________________________________________\n",
      "average_pooling2d_7 (AveragePoo (None, 2, 2, 64)     0           conv2d_7[0][0]                   \n",
      "__________________________________________________________________________________________________\n",
      "average_pooling2d_11 (AveragePo (None, 2, 2, 64)     0           conv2d_11[0][0]                  \n",
      "__________________________________________________________________________________________________\n",
      "reshape (Reshape)               (None, 1, 256)       0           average_pooling2d_3[0][0]        \n",
      "__________________________________________________________________________________________________\n",
      "reshape_1 (Reshape)             (None, 1, 256)       0           average_pooling2d_7[0][0]        \n",
      "__________________________________________________________________________________________________\n",
      "reshape_2 (Reshape)             (None, 1, 256)       0           average_pooling2d_11[0][0]       \n",
      "__________________________________________________________________________________________________\n",
      "concatenate (Concatenate)       (None, 1, 512)       0           reshape[0][0]                    \n",
      "                                                                 reshape_1[0][0]                  \n",
      "__________________________________________________________________________________________________\n",
      "dense_1 (Dense)                 (None, 1, 128)       32896       reshape_2[0][0]                  \n",
      "__________________________________________________________________________________________________\n",
      "input_4 (InputLayer)            [(None, 625)]        0                                            \n",
      "__________________________________________________________________________________________________\n",
      "dense (Dense)                   (None, 1, 128)       65664       concatenate[0][0]                \n",
      "__________________________________________________________________________________________________\n",
      "dense_2 (Dense)                 (None, 1, 64)        8256        dense_1[0][0]                    \n",
      "__________________________________________________________________________________________________\n",
      "dense_3 (Dense)                 (None, 256)          160256      input_4[0][0]                    \n",
      "__________________________________________________________________________________________________\n",
      "flatten (Flatten)               (None, 128)          0           dense[0][0]                      \n",
      "__________________________________________________________________________________________________\n",
      "flatten_1 (Flatten)             (None, 64)           0           dense_2[0][0]                    \n",
      "__________________________________________________________________________________________________\n",
      "dense_4 (Dense)                 (None, 128)          32896       dense_3[0][0]                    \n",
      "__________________________________________________________________________________________________\n",
      "concatenate_1 (Concatenate)     (None, 320)          0           flatten[0][0]                    \n",
      "                                                                 flatten_1[0][0]                  \n",
      "                                                                 dense_4[0][0]                    \n",
      "__________________________________________________________________________________________________\n",
      "dense_5 (Dense)                 (None, 128)          41088       concatenate_1[0][0]              \n",
      "__________________________________________________________________________________________________\n",
      "dense_6 (Dense)                 (None, 2)            258         dense_5[0][0]                    \n",
      "==================================================================================================\n",
      "Total params: 594,850\n",
      "Trainable params: 594,850\n",
      "Non-trainable params: 0\n",
      "__________________________________________________________________________________________________\n"
     ]
    }
   ],
   "source": [
    "from src.model import model\n",
    "\n",
    "model.compile(optimizer='adam', loss=\"mse\")\n",
    "model.summary() "
   ]
  },
  {
   "cell_type": "code",
   "execution_count": 4,
   "metadata": {},
   "outputs": [],
   "source": [
    "X_left, X_right, X_face, X_mask, Y = [], [], [], [], []"
   ]
  },
  {
   "cell_type": "code",
   "execution_count": null,
   "metadata": {},
   "outputs": [],
   "source": [
    "cap = cv2.VideoCapture(0)\n",
    "# frame_width, frame_height = 320, 240\n",
    "# cap.set(cv2.CAP_PROP_FRAME_WIDTH, frame_width)\n",
    "# cap.set(cv2.CAP_PROP_FRAME_HEIGHT, frame_height)\n",
    "cv2.namedWindow(\"window\", cv2.WND_PROP_FULLSCREEN)\n",
    "cv2.setWindowProperty(\"window\",cv2.WND_PROP_FULLSCREEN,cv2.WINDOW_FULLSCREEN)\n",
    "class GetOutOfLoop(Exception):\n",
    "    pass\n",
    "\n",
    "\n",
    "x, y = 0.5, 0.5\n",
    "image = np.zeros((height, width, 3), np.uint8)\n",
    "path = [[0,0], [1,0], [0,1], [1,1]]\n",
    "for i in range(50):\n",
    "    x_new, y_new = np.random.uniform(), np.random.uniform()\n",
    "    while abs(x_new - path[-1][0]) + abs(y_new-path[-1][0]) < 1.0:\n",
    "        x_new, y_new = np.random.uniform(), np.random.uniform()\n",
    "    path.append([x_new, y_new])\n",
    "np.random.shuffle(np.array(path))\n",
    "    \n",
    "try:\n",
    "    for x_new, y_new in path:\n",
    "        T = 2000\n",
    "        n = 150\n",
    "        for xc, yc in np.linspace([x, y], [x_new, y_new], n):\n",
    "            image[:,:,:] = 215\n",
    "            cv2.circle(image, (int(xc*width),int(yc*height)), radius=15, color=(35,35,35), thickness=-2)\n",
    "            cv2.imshow(\"window\", image)\n",
    "            cv2.waitKey(T//n)\n",
    "            ret, frame = cap.read()\n",
    "            if ret:\n",
    "                frame = cv2.cvtColor(frame, cv2.COLOR_BGR2GRAY)\n",
    "                face_features = extract_image_features(frame)\n",
    "                try:\n",
    "                    face_features[1][0]; face_features[1][1]; face_features[0]; face_features[2]\n",
    "                    X_left.append(cv2.resize(face_features[1][0], (img_size,img_size), interpolation = cv2.INTER_AREA)/255.0)\n",
    "                    X_right.append(cv2.resize(face_features[1][1], (img_size,img_size), interpolation = cv2.INTER_AREA)/255.0)\n",
    "                    X_face.append(cv2.resize(face_features[0], (img_size,img_size), interpolation = cv2.INTER_AREA)/255.0)\n",
    "                    X_mask.append(face_features[2])\n",
    "                    Y.append([xc,yc])\n",
    "                except Exception as e:\n",
    "                    print(e)\n",
    "#                 img = cv2.cvtColor(frame, cv2.COLOR_BGR2GRAY)\n",
    "#                 X_temp.append(np.expand_dims(img, -1))\n",
    "                \n",
    "#                 Y.append([xc,yc])\n",
    "            if cv2.waitKey(1) & 0xFF == ord('q'):\n",
    "                raise GetOutOfLoop\n",
    "        x, y = x_new, y_new\n",
    "except Exception as e:\n",
    "    print(e)\n",
    "finally:\n",
    "    cv2.destroyAllWindows()\n",
    "    cap.release()"
   ]
  },
  {
   "cell_type": "code",
   "execution_count": 271,
   "metadata": {},
   "outputs": [
    {
     "data": {
      "application/vnd.jupyter.widget-view+json": {
       "model_id": "35d85a9f50fd423eb340e920d79ae87c",
       "version_major": 2,
       "version_minor": 0
      },
      "text/plain": [
       "IntProgress(value=0, max=2100)"
      ]
     },
     "metadata": {},
     "output_type": "display_data"
    }
   ],
   "source": [
    "from ipywidgets import IntProgress\n",
    "from IPython.display import display\n",
    "\n",
    "target_height, target_width = 32, 64\n",
    "max_count = len(X_temp)\n",
    "\n",
    "f = IntProgress(min=0, max=max_count) # instantiate the bar\n",
    "display(f) # display the bar\n",
    "\n",
    "X_left, X_right, X_face, X_mask, Y = [], [], [], [], []\n",
    "for i, frame in enumerate(X_temp):\n",
    "    face_features = extract_image_features(frame)\n",
    "    try:\n",
    "        face_features[1][0]; face_features[1][1]; face_features[0]; face_features[2]\n",
    "        X_left.append(cv2.resize(face_features[1][0], (img_size,img_size), interpolation = cv2.INTER_AREA)/255.0)\n",
    "        X_right.append(cv2.resize(face_features[1][1], (img_size,img_size), interpolation = cv2.INTER_AREA)/255.0)\n",
    "        X_face.append(cv2.resize(face_features[0], (img_size,img_size), interpolation = cv2.INTER_AREA)/255.0)\n",
    "        X_mask.append(face_features[2])\n",
    "        Y.append(Y_temp[i])\n",
    "    except:\n",
    "        pass\n",
    "    f.value += 1"
   ]
  },
  {
   "cell_type": "code",
   "execution_count": 31,
   "metadata": {},
   "outputs": [],
   "source": [
    "X_left = np.expand_dims(np.array(X_left), -1)\n",
    "X_right = np.expand_dims(np.array(X_right), -1)\n",
    "X_face = np.expand_dims(np.array(X_face), -1)\n",
    "X_mask = np.array(X_mask)\n",
    "Y = np.array(Y)\n",
    "print(X_left.shape, X_right.shape, X_face.shape, X_mask.shape, Y.shape)"
   ]
  },
  {
   "cell_type": "code",
   "execution_count": 32,
   "metadata": {},
   "outputs": [],
   "source": [
    "X_left = np.concatenate([X_left, X_left_old])\n",
    "X_right = np.concatenate([X_right, X_right_old])\n",
    "X_face = np.concatenate([X_face, X_face_old])\n",
    "X_mask = np.concatenate([X_mask, X_mask_old])\n",
    "Y = np.concatenate([Y, Y_old])"
   ]
  },
  {
   "cell_type": "code",
   "execution_count": 257,
   "metadata": {},
   "outputs": [],
   "source": [
    "X_left_old, X_right_old, X_face_old, X_mask_old, Y_old = X_left, X_right, X_face, X_mask, Y\n",
    "X_left, X_right, X_face, X_mask, Y = [],[],[],[],[]"
   ]
  },
  {
   "cell_type": "code",
   "execution_count": 34,
   "metadata": {},
   "outputs": [],
   "source": [
    "import pickle\n",
    "\n",
    "pickle.dump([X_left, X_right, X_face, X_mask, Y], open(\"save2_c1.pkl\", \"wb\"))"
   ]
  },
  {
   "cell_type": "code",
   "execution_count": 193,
   "metadata": {},
   "outputs": [],
   "source": [
    "from sklearn.model_selection import train_test_split\n",
    "train_set, test_set = train_test_split(list(range(len(Y))), train_size=0.9, shuffle=True)"
   ]
  },
  {
   "cell_type": "code",
   "execution_count": 133,
   "metadata": {},
   "outputs": [],
   "source": [
    "X_train = [X_left[train_set], X_right[train_set], X_face[train_set], X_mask[train_set]]\n",
    "X_test = [X_left[test_set], X_right[test_set], X_face[test_set], X_mask[test_set]]"
   ]
  },
  {
   "cell_type": "code",
   "execution_count": null,
   "metadata": {},
   "outputs": [],
   "source": [
    "model.fit(X_train, np.array(Y)[train_set], batch_size=256, epochs=100)"
   ]
  },
  {
   "cell_type": "code",
   "execution_count": null,
   "metadata": {},
   "outputs": [],
   "source": []
  },
  {
   "cell_type": "code",
   "execution_count": 31,
   "metadata": {},
   "outputs": [
    {
     "name": "stdout",
     "output_type": "stream",
     "text": [
      "(9746, 64, 64, 1) (9746, 64, 64, 1) (9746, 64, 64, 1) (9746, 625) (9746, 2)\n"
     ]
    }
   ],
   "source": [
    "import pickle\n",
    "\n",
    "[X_left, X_right, X_face, X_mask, Y] = pickle.load(open(\"save.pkl\", \"rb\"))\n",
    "print(X_left.shape, X_right.shape, X_face.shape, X_mask.shape, Y.shape)"
   ]
  },
  {
   "cell_type": "code",
   "execution_count": 27,
   "metadata": {},
   "outputs": [
    {
     "name": "stdout",
     "output_type": "stream",
     "text": [
      "(3752, 64, 64, 1) (3752, 64, 64, 1) (3752, 64, 64, 1) (3752, 625) (3752, 2)\n"
     ]
    }
   ],
   "source": [
    "import pickle\n",
    "[X_left, X_right, X_face, X_mask, Y] = pickle.load(open(\"save2.pkl\", \"rb\"))\n",
    "print(X_left.shape, X_right.shape, X_face.shape, X_mask.shape, Y.shape)"
   ]
  },
  {
   "cell_type": "code",
   "execution_count": 41,
   "metadata": {},
   "outputs": [],
   "source": [
    "from sklearn.model_selection import train_test_split\n",
    "train_set, test_set = train_test_split(list(range(len(Y))), train_size=0.95, shuffle=True)\n",
    "\n",
    "X_train = [X_left[train_set], X_right[train_set], X_face[train_set], X_mask[train_set]]\n",
    "X_test = [X_left[test_set], X_right[test_set], X_face[test_set], X_mask[test_set]]"
   ]
  },
  {
   "cell_type": "code",
   "execution_count": 4,
   "metadata": {},
   "outputs": [
    {
     "name": "stderr",
     "output_type": "stream",
     "text": [
      "WARNING:root:Limited tf.compat.v2.summary API due to missing TensorBoard installation.\n",
      "WARNING:root:Limited tf.compat.v2.summary API due to missing TensorBoard installation.\n",
      "WARNING:root:Limited tf.compat.v2.summary API due to missing TensorBoard installation.\n",
      "WARNING:root:Limited tf.summary API due to missing TensorBoard installation.\n"
     ]
    }
   ],
   "source": [
    "from keras.models import load_model\n",
    "model = load_model(\"checkpoints\")"
   ]
  },
  {
   "cell_type": "code",
   "execution_count": 42,
   "metadata": {},
   "outputs": [
    {
     "name": "stdout",
     "output_type": "stream",
     "text": [
      "Epoch 1/50\n",
      " 2/51 [>.............................] - ETA: 13s - loss: 0.0656WARNING:tensorflow:Callbacks method `on_train_batch_end` is slow compared to the batch time (batch time: 0.1469s vs `on_train_batch_end` time: 0.2409s). Check your callbacks.\n"
     ]
    },
    {
     "name": "stderr",
     "output_type": "stream",
     "text": [
      "WARNING:tensorflow:Callbacks method `on_train_batch_end` is slow compared to the batch time (batch time: 0.1469s vs `on_train_batch_end` time: 0.2409s). Check your callbacks.\n"
     ]
    },
    {
     "name": "stdout",
     "output_type": "stream",
     "text": [
      "51/51 [==============================] - 15s 300ms/step - loss: 0.0419 - val_loss: 0.0362\n",
      "Epoch 2/50\n",
      "51/51 [==============================] - 14s 270ms/step - loss: 0.0282 - val_loss: 0.0245\n",
      "Epoch 3/50\n",
      "51/51 [==============================] - 14s 266ms/step - loss: 0.0205 - val_loss: 0.0178\n",
      "Epoch 4/50\n",
      "51/51 [==============================] - 13s 264ms/step - loss: 0.0136 - val_loss: 0.0128\n",
      "Epoch 5/50\n",
      "51/51 [==============================] - 13s 265ms/step - loss: 0.0098 - val_loss: 0.0107\n",
      "Epoch 6/50\n",
      "51/51 [==============================] - 14s 267ms/step - loss: 0.0077 - val_loss: 0.0095\n",
      "Epoch 7/50\n",
      "51/51 [==============================] - 13s 264ms/step - loss: 0.0061 - val_loss: 0.0066\n",
      "Epoch 8/50\n",
      "51/51 [==============================] - 13s 256ms/step - loss: 0.0050 - val_loss: 0.0060\n",
      "Epoch 9/50\n",
      "51/51 [==============================] - 14s 268ms/step - loss: 0.0043 - val_loss: 0.0052\n",
      "Epoch 10/50\n",
      "51/51 [==============================] - 13s 262ms/step - loss: 0.0038 - val_loss: 0.0052\n",
      "Epoch 11/50\n",
      "51/51 [==============================] - 14s 273ms/step - loss: 0.0032 - val_loss: 0.0044\n",
      "Epoch 12/50\n",
      "51/51 [==============================] - 14s 267ms/step - loss: 0.0027 - val_loss: 0.0043\n",
      "Epoch 13/50\n",
      "51/51 [==============================] - 13s 263ms/step - loss: 0.0024 - val_loss: 0.0076\n",
      "Epoch 14/50\n",
      "51/51 [==============================] - 13s 260ms/step - loss: 0.0028 - val_loss: 0.0033\n",
      "Epoch 15/50\n",
      "51/51 [==============================] - 13s 259ms/step - loss: 0.0020 - val_loss: 0.0036\n",
      "Epoch 16/50\n",
      "51/51 [==============================] - 14s 275ms/step - loss: 0.0018 - val_loss: 0.0031\n",
      "Epoch 17/50\n",
      "51/51 [==============================] - 14s 274ms/step - loss: 0.0017 - val_loss: 0.0029\n",
      "Epoch 18/50\n",
      "51/51 [==============================] - 13s 258ms/step - loss: 0.0017 - val_loss: 0.0031\n",
      "Epoch 19/50\n",
      "51/51 [==============================] - 13s 253ms/step - loss: 0.0015 - val_loss: 0.0027\n",
      "Epoch 20/50\n",
      "51/51 [==============================] - 13s 263ms/step - loss: 0.0014 - val_loss: 0.0025\n",
      "Epoch 21/50\n",
      "51/51 [==============================] - 14s 266ms/step - loss: 0.0013 - val_loss: 0.0025\n",
      "Epoch 22/50\n",
      "51/51 [==============================] - 13s 259ms/step - loss: 0.0013 - val_loss: 0.0023\n",
      "Epoch 23/50\n",
      "51/51 [==============================] - 13s 258ms/step - loss: 0.0010 - val_loss: 0.0022\n",
      "Epoch 24/50\n",
      "51/51 [==============================] - 14s 266ms/step - loss: 0.0010 - val_loss: 0.0029\n",
      "Epoch 25/50\n",
      "51/51 [==============================] - 14s 273ms/step - loss: 0.0012 - val_loss: 0.0021\n",
      "Epoch 26/50\n",
      "51/51 [==============================] - 14s 268ms/step - loss: 0.0010 - val_loss: 0.0023\n",
      "Epoch 27/50\n",
      "51/51 [==============================] - 14s 268ms/step - loss: 8.8200e-04 - val_loss: 0.0024\n",
      "Epoch 28/50\n",
      "51/51 [==============================] - 13s 263ms/step - loss: 8.9820e-04 - val_loss: 0.0023\n",
      "Epoch 29/50\n",
      "51/51 [==============================] - 14s 270ms/step - loss: 8.5160e-04 - val_loss: 0.0021\n",
      "Epoch 30/50\n",
      "51/51 [==============================] - 14s 275ms/step - loss: 7.8059e-04 - val_loss: 0.0019\n",
      "Epoch 31/50\n",
      "51/51 [==============================] - 13s 259ms/step - loss: 6.7738e-04 - val_loss: 0.0019\n",
      "Epoch 32/50\n",
      "51/51 [==============================] - 14s 265ms/step - loss: 5.9532e-04 - val_loss: 0.0020\n",
      "Epoch 33/50\n",
      "51/51 [==============================] - 13s 258ms/step - loss: 6.1174e-04 - val_loss: 0.0018\n",
      "Epoch 34/50\n",
      "51/51 [==============================] - 14s 282ms/step - loss: 5.8878e-04 - val_loss: 0.0018\n",
      "Epoch 35/50\n",
      "51/51 [==============================] - 13s 255ms/step - loss: 6.3396e-04 - val_loss: 0.0019\n",
      "Epoch 36/50\n",
      "51/51 [==============================] - 13s 259ms/step - loss: 5.5541e-04 - val_loss: 0.0015\n",
      "Epoch 37/50\n",
      "51/51 [==============================] - 13s 256ms/step - loss: 5.6489e-04 - val_loss: 0.0017\n",
      "Epoch 38/50\n",
      "51/51 [==============================] - 13s 264ms/step - loss: 5.6568e-04 - val_loss: 0.0017\n",
      "Epoch 39/50\n",
      "51/51 [==============================] - 14s 265ms/step - loss: 4.8718e-04 - val_loss: 0.0017\n",
      "Epoch 40/50\n",
      "51/51 [==============================] - 14s 267ms/step - loss: 5.1162e-04 - val_loss: 0.0016\n",
      "Epoch 41/50\n",
      "51/51 [==============================] - 13s 254ms/step - loss: 4.6514e-04 - val_loss: 0.0017\n",
      "Epoch 42/50\n",
      "51/51 [==============================] - 13s 260ms/step - loss: 4.4060e-04 - val_loss: 0.0016\n",
      "Epoch 43/50\n",
      "51/51 [==============================] - 14s 269ms/step - loss: 4.2681e-04 - val_loss: 0.0016\n",
      "Epoch 44/50\n",
      "51/51 [==============================] - 13s 262ms/step - loss: 4.0102e-04 - val_loss: 0.0017\n",
      "Epoch 45/50\n",
      "51/51 [==============================] - 14s 267ms/step - loss: 4.1132e-04 - val_loss: 0.0017\n",
      "Epoch 46/50\n",
      "51/51 [==============================] - 13s 254ms/step - loss: 4.6695e-04 - val_loss: 0.0018\n",
      "Epoch 47/50\n",
      "51/51 [==============================] - 13s 258ms/step - loss: 4.4651e-04 - val_loss: 0.0016\n",
      "Epoch 48/50\n",
      "51/51 [==============================] - 13s 263ms/step - loss: 4.0117e-04 - val_loss: 0.0017\n",
      "Epoch 49/50\n",
      "51/51 [==============================] - 14s 271ms/step - loss: 4.6973e-04 - val_loss: 0.0016\n",
      "Epoch 50/50\n",
      "51/51 [==============================] - 13s 261ms/step - loss: 4.0239e-04 - val_loss: 0.0016\n"
     ]
    }
   ],
   "source": [
    "history = model.fit(X_train, np.array(Y)[train_set], batch_size=256, epochs=50, validation_data=(X_test, np.array(Y)[test_set]))"
   ]
  },
  {
   "cell_type": "code",
   "execution_count": 44,
   "metadata": {},
   "outputs": [
    {
     "name": "stdout",
     "output_type": "stream",
     "text": [
      "Epoch 1/30\n",
      "51/51 [==============================] - 14s 265ms/step - loss: 1.9027e-04 - val_loss: 0.0014\n",
      "Epoch 2/30\n",
      "51/51 [==============================] - 13s 264ms/step - loss: 2.1446e-04 - val_loss: 0.0015\n",
      "Epoch 3/30\n",
      "51/51 [==============================] - 13s 261ms/step - loss: 2.6725e-04 - val_loss: 0.0013\n",
      "Epoch 4/30\n",
      "51/51 [==============================] - 14s 269ms/step - loss: 2.0151e-04 - val_loss: 0.0013\n",
      "Epoch 5/30\n",
      "51/51 [==============================] - 14s 268ms/step - loss: 1.8572e-04 - val_loss: 0.0014\n",
      "Epoch 6/30\n",
      "51/51 [==============================] - 13s 258ms/step - loss: 1.9689e-04 - val_loss: 0.0014\n",
      "Epoch 7/30\n",
      "51/51 [==============================] - 13s 261ms/step - loss: 2.1031e-04 - val_loss: 0.0014\n",
      "Epoch 8/30\n",
      "51/51 [==============================] - 14s 265ms/step - loss: 1.7470e-04 - val_loss: 0.0012\n",
      "Epoch 9/30\n",
      "51/51 [==============================] - 14s 267ms/step - loss: 1.7585e-04 - val_loss: 0.0015\n",
      "Epoch 10/30\n",
      "51/51 [==============================] - 13s 261ms/step - loss: 2.1311e-04 - val_loss: 0.0014\n",
      "Epoch 11/30\n",
      "51/51 [==============================] - 13s 257ms/step - loss: 2.5172e-04 - val_loss: 0.0016\n",
      "Epoch 12/30\n",
      "51/51 [==============================] - 13s 263ms/step - loss: 2.8870e-04 - val_loss: 0.0014\n",
      "Epoch 13/30\n",
      "51/51 [==============================] - 13s 255ms/step - loss: 2.3731e-04 - val_loss: 0.0013\n",
      "Epoch 14/30\n",
      "51/51 [==============================] - 14s 269ms/step - loss: 2.1466e-04 - val_loss: 0.0015\n",
      "Epoch 15/30\n",
      "51/51 [==============================] - 13s 262ms/step - loss: 2.2680e-04 - val_loss: 0.0014\n",
      "Epoch 16/30\n",
      "51/51 [==============================] - 14s 267ms/step - loss: 2.8290e-04 - val_loss: 0.0013\n",
      "Epoch 17/30\n",
      "51/51 [==============================] - 14s 275ms/step - loss: 1.8282e-04 - val_loss: 0.0013\n",
      "Epoch 18/30\n",
      "51/51 [==============================] - 14s 267ms/step - loss: 2.0338e-04 - val_loss: 0.0012\n",
      "Epoch 19/30\n",
      "51/51 [==============================] - 13s 258ms/step - loss: 1.9957e-04 - val_loss: 0.0013\n",
      "Epoch 20/30\n",
      "51/51 [==============================] - 13s 258ms/step - loss: 1.6540e-04 - val_loss: 0.0013\n",
      "Epoch 21/30\n",
      "51/51 [==============================] - 13s 264ms/step - loss: 2.1853e-04 - val_loss: 0.0017\n",
      "Epoch 22/30\n",
      "51/51 [==============================] - 13s 259ms/step - loss: 3.4210e-04 - val_loss: 0.0015\n",
      "Epoch 23/30\n",
      "51/51 [==============================] - 14s 265ms/step - loss: 2.1172e-04 - val_loss: 0.0016\n",
      "Epoch 24/30\n",
      "51/51 [==============================] - 13s 256ms/step - loss: 2.5304e-04 - val_loss: 0.0012\n",
      "Epoch 25/30\n",
      "51/51 [==============================] - 13s 262ms/step - loss: 1.8115e-04 - val_loss: 0.0012\n",
      "Epoch 26/30\n",
      "51/51 [==============================] - 14s 265ms/step - loss: 1.4307e-04 - val_loss: 0.0012\n",
      "Epoch 27/30\n",
      "51/51 [==============================] - 14s 268ms/step - loss: 1.4677e-04 - val_loss: 0.0015\n",
      "Epoch 28/30\n",
      "51/51 [==============================] - 14s 269ms/step - loss: 2.9990e-04 - val_loss: 0.0013\n",
      "Epoch 29/30\n",
      "51/51 [==============================] - 14s 271ms/step - loss: 2.1291e-04 - val_loss: 0.0012\n",
      "Epoch 30/30\n",
      "51/51 [==============================] - 13s 253ms/step - loss: 1.5085e-04 - val_loss: 0.0012\n"
     ]
    }
   ],
   "source": [
    "history = model.fit(X_train, np.array(Y)[train_set], batch_size=256, epochs=30, validation_data=(X_test, np.array(Y)[test_set]))"
   ]
  },
  {
   "cell_type": "code",
   "execution_count": 23,
   "metadata": {},
   "outputs": [
    {
     "data": {
      "text/plain": [
       "array([[0.05270752, 0.459716  ],\n",
       "       [0.9177382 , 0.7912232 ],\n",
       "       [0.6546875 , 0.49460116],\n",
       "       ...,\n",
       "       [0.17606658, 0.4483772 ],\n",
       "       [0.5178365 , 0.40882057],\n",
       "       [0.26228034, 0.37397596]], dtype=float32)"
      ]
     },
     "execution_count": 23,
     "metadata": {},
     "output_type": "execute_result"
    }
   ],
   "source": [
    "model.predict(X_train)"
   ]
  },
  {
   "cell_type": "code",
   "execution_count": 24,
   "metadata": {},
   "outputs": [
    {
     "ename": "NameError",
     "evalue": "name 'history' is not defined",
     "output_type": "error",
     "traceback": [
      "\u001b[1;31m---------------------------------------------------------------------------\u001b[0m",
      "\u001b[1;31mNameError\u001b[0m                                 Traceback (most recent call last)",
      "\u001b[1;32m<ipython-input-24-08e46486836c>\u001b[0m in \u001b[0;36m<module>\u001b[1;34m\u001b[0m\n\u001b[0;32m      1\u001b[0m \u001b[1;31m# Plot history: MAE\u001b[0m\u001b[1;33m\u001b[0m\u001b[1;33m\u001b[0m\u001b[1;33m\u001b[0m\u001b[0m\n\u001b[0;32m      2\u001b[0m \u001b[0mplt\u001b[0m\u001b[1;33m.\u001b[0m\u001b[0mfigure\u001b[0m\u001b[1;33m(\u001b[0m\u001b[0mfigsize\u001b[0m\u001b[1;33m=\u001b[0m\u001b[1;33m(\u001b[0m\u001b[1;36m10\u001b[0m\u001b[1;33m,\u001b[0m\u001b[1;36m6\u001b[0m\u001b[1;33m)\u001b[0m\u001b[1;33m,\u001b[0m \u001b[0mdpi\u001b[0m\u001b[1;33m=\u001b[0m\u001b[1;36m80\u001b[0m\u001b[1;33m)\u001b[0m\u001b[1;33m\u001b[0m\u001b[1;33m\u001b[0m\u001b[0m\n\u001b[1;32m----> 3\u001b[1;33m \u001b[0mplt\u001b[0m\u001b[1;33m.\u001b[0m\u001b[0mplot\u001b[0m\u001b[1;33m(\u001b[0m\u001b[0mhistory\u001b[0m\u001b[1;33m.\u001b[0m\u001b[0mhistory\u001b[0m\u001b[1;33m[\u001b[0m\u001b[1;34m'loss'\u001b[0m\u001b[1;33m]\u001b[0m\u001b[1;33m,\u001b[0m \u001b[0mlabel\u001b[0m\u001b[1;33m=\u001b[0m\u001b[1;34m'MSE (training data)'\u001b[0m\u001b[1;33m)\u001b[0m\u001b[1;33m\u001b[0m\u001b[1;33m\u001b[0m\u001b[0m\n\u001b[0m\u001b[0;32m      4\u001b[0m \u001b[0mplt\u001b[0m\u001b[1;33m.\u001b[0m\u001b[0mplot\u001b[0m\u001b[1;33m(\u001b[0m\u001b[0mhistory\u001b[0m\u001b[1;33m.\u001b[0m\u001b[0mhistory\u001b[0m\u001b[1;33m[\u001b[0m\u001b[1;34m'val_loss'\u001b[0m\u001b[1;33m]\u001b[0m\u001b[1;33m,\u001b[0m \u001b[0mlabel\u001b[0m\u001b[1;33m=\u001b[0m\u001b[1;34m'MSE (validation data)'\u001b[0m\u001b[1;33m)\u001b[0m\u001b[1;33m\u001b[0m\u001b[1;33m\u001b[0m\u001b[0m\n\u001b[0;32m      5\u001b[0m \u001b[0mplt\u001b[0m\u001b[1;33m.\u001b[0m\u001b[0mtitle\u001b[0m\u001b[1;33m(\u001b[0m\u001b[1;34m'MSE over training'\u001b[0m\u001b[1;33m)\u001b[0m\u001b[1;33m\u001b[0m\u001b[1;33m\u001b[0m\u001b[0m\n",
      "\u001b[1;31mNameError\u001b[0m: name 'history' is not defined"
     ]
    },
    {
     "data": {
      "text/plain": [
       "<Figure size 800x480 with 0 Axes>"
      ]
     },
     "metadata": {},
     "output_type": "display_data"
    }
   ],
   "source": [
    "# Plot history: MAE\n",
    "plt.figure(figsize=(10,6), dpi=80)\n",
    "plt.plot(history.history['loss'], label='MSE (training data)')\n",
    "plt.plot(history.history['val_loss'], label='MSE (validation data)')\n",
    "plt.title('MSE over training')\n",
    "plt.ylabel('MSE value')\n",
    "plt.xlabel('No. epoch')\n",
    "plt.legend(loc=\"upper left\")\n",
    "plt.show()"
   ]
  },
  {
   "cell_type": "code",
   "execution_count": 26,
   "metadata": {},
   "outputs": [
    {
     "name": "stdout",
     "output_type": "stream",
     "text": [
      "WARNING:tensorflow:From C:\\Users\\tangji\\Anaconda3\\lib\\site-packages\\tensorflow\\python\\training\\tracking\\tracking.py:111: Model.state_updates (from tensorflow.python.keras.engine.training) is deprecated and will be removed in a future version.\n",
      "Instructions for updating:\n",
      "This property should not be used in TensorFlow 2.0, as updates are applied automatically.\n"
     ]
    },
    {
     "name": "stderr",
     "output_type": "stream",
     "text": [
      "WARNING:tensorflow:From C:\\Users\\tangji\\Anaconda3\\lib\\site-packages\\tensorflow\\python\\training\\tracking\\tracking.py:111: Model.state_updates (from tensorflow.python.keras.engine.training) is deprecated and will be removed in a future version.\n",
      "Instructions for updating:\n",
      "This property should not be used in TensorFlow 2.0, as updates are applied automatically.\n"
     ]
    },
    {
     "name": "stdout",
     "output_type": "stream",
     "text": [
      "WARNING:tensorflow:From C:\\Users\\tangji\\Anaconda3\\lib\\site-packages\\tensorflow\\python\\training\\tracking\\tracking.py:111: Layer.updates (from tensorflow.python.keras.engine.base_layer) is deprecated and will be removed in a future version.\n",
      "Instructions for updating:\n",
      "This property should not be used in TensorFlow 2.0, as updates are applied automatically.\n"
     ]
    },
    {
     "name": "stderr",
     "output_type": "stream",
     "text": [
      "WARNING:tensorflow:From C:\\Users\\tangji\\Anaconda3\\lib\\site-packages\\tensorflow\\python\\training\\tracking\\tracking.py:111: Layer.updates (from tensorflow.python.keras.engine.base_layer) is deprecated and will be removed in a future version.\n",
      "Instructions for updating:\n",
      "This property should not be used in TensorFlow 2.0, as updates are applied automatically.\n"
     ]
    },
    {
     "name": "stdout",
     "output_type": "stream",
     "text": [
      "INFO:tensorflow:Assets written to: checkpoints\\assets\n"
     ]
    },
    {
     "name": "stderr",
     "output_type": "stream",
     "text": [
      "INFO:tensorflow:Assets written to: checkpoints\\assets\n"
     ]
    }
   ],
   "source": [
    "model.save(\"checkpoints\")"
   ]
  },
  {
   "cell_type": "code",
   "execution_count": null,
   "metadata": {},
   "outputs": [],
   "source": []
  }
 ],
 "metadata": {
  "kernelspec": {
   "display_name": "Python 3",
   "language": "python",
   "name": "python3"
  }
 },
 "nbformat": 4,
 "nbformat_minor": 4
}
