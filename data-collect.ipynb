{
 "cells": [
  {
   "cell_type": "code",
   "execution_count": 1,
   "metadata": {},
   "outputs": [],
   "source": [
    "import numpy as np\n",
    "import cv2, os, pyautogui, time\n",
    "from PIL import Image\n",
    "import matplotlib.pyplot as plt\n",
    "import warnings\n",
    "\n",
    "from src.face_features import *\n",
    "from src.tools import *\n",
    "from src.config import *\n",
    "\n",
    "width, height= pyautogui.size()"
   ]
  },
  {
   "cell_type": "markdown",
   "metadata": {},
   "source": [
    "# Fast (need large memory)"
   ]
  },
  {
   "cell_type": "code",
   "execution_count": 2,
   "metadata": {},
   "outputs": [],
   "source": [
    "X_temp, Y_temp = [], []"
   ]
  },
  {
   "cell_type": "code",
   "execution_count": 3,
   "metadata": {},
   "outputs": [],
   "source": [
    "cap = cv2.VideoCapture(0)\n",
    "cv2.namedWindow(\"window\", cv2.WND_PROP_FULLSCREEN)\n",
    "cv2.setWindowProperty(\"window\",cv2.WND_PROP_FULLSCREEN,cv2.WINDOW_FULLSCREEN)\n",
    "class GetOutOfLoop(Exception):\n",
    "    pass\n",
    "\n",
    "\n",
    "x, y = 0.5, 0.5\n",
    "image = np.zeros((height, width, 3), np.uint8)\n",
    "path = [[0,0], [1,0], [0,1], [1,1]]\n",
    "for i in range(30):\n",
    "    x_new, y_new = np.random.uniform(), np.random.uniform()\n",
    "    while abs(x_new - path[-1][0]) + abs(y_new-path[-1][0]) < 1.0:\n",
    "        x_new, y_new = np.random.uniform(), np.random.uniform()\n",
    "    path.append([x_new, y_new])\n",
    "np.random.shuffle(np.array(path))\n",
    "    \n",
    "try:\n",
    "    for x_new, y_new in path:\n",
    "        T = 1000\n",
    "        n = 150\n",
    "        for xc, yc in np.linspace([x, y], [x_new, y_new], n):\n",
    "            image[:,:,:] = 215\n",
    "            cv2.circle(image, (int(xc*width),int(yc*height)), radius=15, color=(35,35,35), thickness=-2)\n",
    "            cv2.imshow(\"window\", image)\n",
    "            cv2.waitKey(T//n)\n",
    "            ret, frame = cap.read()\n",
    "            if ret:\n",
    "                frame = cv2.cvtColor(frame, cv2.COLOR_BGR2GRAY)\n",
    "                X_temp.append(frame)\n",
    "                Y_temp.append([xc,yc])\n",
    "            if cv2.waitKey(1) & 0xFF == ord('q'):\n",
    "                raise GetOutOfLoop\n",
    "        x, y = x_new, y_new\n",
    "except Exception as e:\n",
    "    print(e)\n",
    "finally:\n",
    "    cv2.destroyAllWindows()\n",
    "    cap.release()"
   ]
  },
  {
   "cell_type": "code",
   "execution_count": 5,
   "metadata": {
    "scrolled": true
   },
   "outputs": [
    {
     "data": {
      "application/vnd.jupyter.widget-view+json": {
       "model_id": "a134ff41f1404ee5a4acaf1bfd3e0061",
       "version_major": 2,
       "version_minor": 0
      },
      "text/plain": [
       "IntProgress(value=0, max=5100)"
      ]
     },
     "metadata": {},
     "output_type": "display_data"
    }
   ],
   "source": [
    "from ipywidgets import IntProgress\n",
    "from IPython.display import display\n",
    "class GetOutOfLoop(Exception):\n",
    "    pass\n",
    "\n",
    "max_count = len(X_temp)\n",
    "window = np.zeros((img_size[0]*2,img_size[1]*2), dtype=np.uint8)\n",
    "\n",
    "f = IntProgress(min=0, max=max_count) # instantiate the bar\n",
    "display(f) # display the bar\n",
    "\n",
    "X_left, X_right, X_face, X_mask, Y = [], [], [], [], []\n",
    "for i, frame in enumerate(X_temp):\n",
    "    face_features = extract_image_features(frame)\n",
    "    try:\n",
    "        face_features[1][0]; face_features[1][1]; face_features[0]; face_features[2]\n",
    "        merge_results(window, face_features)\n",
    "        cv2.imshow(\"Window\", window)\n",
    "        X_left.append(cv2.resize(face_features[1][0], eye_size, interpolation = cv2.INTER_AREA)/255.0)\n",
    "        X_right.append(cv2.resize(face_features[1][1], eye_size, interpolation = cv2.INTER_AREA)/255.0)\n",
    "        X_face.append(cv2.resize(face_features[0], face_size, interpolation = cv2.INTER_AREA)/255.0)\n",
    "        X_mask.append(cv2.resize(face_features[2], mask_size, interpolation = cv2.INTER_AREA)/255.0)\n",
    "        Y.append(Y_temp[i])\n",
    "        if cv2.waitKey(1) & 0xFF == ord('q'):\n",
    "            raise GetOutOfLoop\n",
    "    except Exception as e:\n",
    "        print(e)\n",
    "    f.value += 1\n",
    "cv2.destroyAllWindows()"
   ]
  },
  {
   "cell_type": "code",
   "execution_count": 7,
   "metadata": {},
   "outputs": [
    {
     "name": "stdout",
     "output_type": "stream",
     "text": [
      "(5100, 32, 64, 1) (5100, 32, 64, 1) (5100, 64, 64, 1) (5100, 64, 64, 1) (5100, 2)\n"
     ]
    }
   ],
   "source": [
    "X_left = np.expand_dims(np.array(X_left), -1)\n",
    "X_right = np.expand_dims(np.array(X_right), -1)\n",
    "X_face = np.expand_dims(np.array(X_face), -1)\n",
    "X_mask = np.expand_dims(np.array(X_mask), -1)\n",
    "Y = np.array(Y)\n",
    "print(X_left.shape, X_right.shape, X_face.shape, X_mask.shape, Y.shape)"
   ]
  },
  {
   "cell_type": "markdown",
   "metadata": {},
   "source": [
    "# Slow (real-time preprocessing)"
   ]
  },
  {
   "cell_type": "code",
   "execution_count": null,
   "metadata": {},
   "outputs": [],
   "source": [
    "X_left, X_right, X_face, X_mask, Y = [], [], [], [], []"
   ]
  },
  {
   "cell_type": "code",
   "execution_count": null,
   "metadata": {},
   "outputs": [],
   "source": [
    "cap = cv2.VideoCapture(0)\n",
    "# frame_width, frame_height = 320, 240\n",
    "# cap.set(cv2.CAP_PROP_FRAME_WIDTH, frame_width)\n",
    "# cap.set(cv2.CAP_PROP_FRAME_HEIGHT, frame_height)\n",
    "cv2.namedWindow(\"window\", cv2.WND_PROP_FULLSCREEN)\n",
    "cv2.setWindowProperty(\"window\",cv2.WND_PROP_FULLSCREEN,cv2.WINDOW_FULLSCREEN)\n",
    "class GetOutOfLoop(Exception):\n",
    "    pass\n",
    "\n",
    "\n",
    "x, y = 0.5, 0.5\n",
    "image = np.zeros((height, width, 3), np.uint8)\n",
    "path = [[0,0], [1,0], [0,1], [1,1]]\n",
    "for i in range(50):\n",
    "    x_new, y_new = np.random.uniform(), np.random.uniform()\n",
    "    while abs(x_new - path[-1][0]) + abs(y_new-path[-1][0]) < 1.0:\n",
    "        x_new, y_new = np.random.uniform(), np.random.uniform()\n",
    "    path.append([x_new, y_new])\n",
    "np.random.shuffle(np.array(path))\n",
    "    \n",
    "try:\n",
    "    for x_new, y_new in path:\n",
    "        T = 2000\n",
    "        n = 150\n",
    "        for xc, yc in np.linspace([x, y], [x_new, y_new], n):\n",
    "            image[:,:,:] = 215\n",
    "            cv2.circle(image, (int(xc*width),int(yc*height)), radius=15, color=(35,35,35), thickness=-2)\n",
    "            cv2.imshow(\"window\", image)\n",
    "            cv2.waitKey(T//n)\n",
    "            ret, frame = cap.read()\n",
    "            if ret:\n",
    "                frame = cv2.cvtColor(frame, cv2.COLOR_BGR2GRAY)\n",
    "                face_features = extract_image_features(frame)\n",
    "                try:\n",
    "                    face_features[1][0]; face_features[1][1]; face_features[0]; face_features[2]\n",
    "                    X_left.append(cv2.resize(face_features[1][0], (img_size,img_size), interpolation = cv2.INTER_AREA)/255.0)\n",
    "                    X_right.append(cv2.resize(face_features[1][1], (img_size,img_size), interpolation = cv2.INTER_AREA)/255.0)\n",
    "                    X_face.append(cv2.resize(face_features[0], (img_size,img_size), interpolation = cv2.INTER_AREA)/255.0)\n",
    "                    X_mask.append(face_features[2])\n",
    "                    Y.append([xc,yc])\n",
    "                except Exception as e:\n",
    "                    print(e)\n",
    "#                 img = cv2.cvtColor(frame, cv2.COLOR_BGR2GRAY)\n",
    "#                 X_temp.append(np.expand_dims(img, -1))\n",
    "                \n",
    "#                 Y.append([xc,yc])\n",
    "            if cv2.waitKey(1) & 0xFF == ord('q'):\n",
    "                raise GetOutOfLoop\n",
    "        x, y = x_new, y_new\n",
    "except Exception as e:\n",
    "    print(e)\n",
    "finally:\n",
    "    cv2.destroyAllWindows()\n",
    "    cap.release()"
   ]
  },
  {
   "cell_type": "code",
   "execution_count": null,
   "metadata": {},
   "outputs": [],
   "source": [
    "X_left = np.expand_dims(np.array(X_left), -1)\n",
    "X_right = np.expand_dims(np.array(X_right), -1)\n",
    "X_face = np.expand_dims(np.array(X_face), -1)\n",
    "X_mask = np.array(X_mask)\n",
    "Y = np.array(Y)\n",
    "print(X_left.shape, X_right.shape, X_face.shape, X_mask.shape, Y.shape)"
   ]
  },
  {
   "cell_type": "code",
   "execution_count": 9,
   "metadata": {},
   "outputs": [],
   "source": [
    "import pickle\n",
    "\n",
    "pickle.dump([X_left, X_right, X_face, X_mask, Y], open(\"save.pkl\", \"wb\"))"
   ]
  },
  {
   "cell_type": "code",
   "execution_count": null,
   "metadata": {},
   "outputs": [],
   "source": []
  }
 ],
 "metadata": {
  "kernelspec": {
   "display_name": "Python 3",
   "language": "python",
   "name": "python3"
  },
  "language_info": {
   "codemirror_mode": {
    "name": "ipython",
    "version": 3
   },
   "file_extension": ".py",
   "mimetype": "text/x-python",
   "name": "python",
   "nbconvert_exporter": "python",
   "pygments_lexer": "ipython3",
   "version": "3.7.7"
  }
 },
 "nbformat": 4,
 "nbformat_minor": 4
}
