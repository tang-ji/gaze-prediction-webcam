{
 "cells": [
  {
   "cell_type": "code",
   "execution_count": 8,
   "metadata": {},
   "outputs": [],
   "source": [
    "from keras.models import Model\n",
    "from keras.layers import Input, Conv2D\n",
    "from tensorflow.keras.applications import EfficientNetB5\n",
    "\n",
    "# resnet = Resnet50(weights='imagenet',include_top= 'TRUE') \n",
    "\n",
    "input_tensor = Input(shape=(64,64,1) )\n",
    "x = Conv2D(3,(3,3),padding='same')(input_tensor)    # x has a dimension of (IMG_SIZE,IMG_SIZE,3)\n",
    "out = EfficientNetB5(include_top=False,\n",
    "    weights=\"imagenet\",\n",
    "    pooling=\"avg\",\n",
    ")(x)\n",
    "\n",
    "model = Model(inputs=input_tensor,outputs=out)"
   ]
  },
  {
   "cell_type": "code",
   "execution_count": 9,
   "metadata": {},
   "outputs": [
    {
     "name": "stdout",
     "output_type": "stream",
     "text": [
      "Model: \"functional_1\"\n",
      "_________________________________________________________________\n",
      "Layer (type)                 Output Shape              Param #   \n",
      "=================================================================\n",
      "input_6 (InputLayer)         [(None, 64, 64, 1)]       0         \n",
      "_________________________________________________________________\n",
      "conv2d_4 (Conv2D)            (None, 64, 64, 3)         30        \n",
      "_________________________________________________________________\n",
      "efficientnetb5 (Functional)  (None, 2048)              28513527  \n",
      "=================================================================\n",
      "Total params: 28,513,557\n",
      "Trainable params: 28,340,814\n",
      "Non-trainable params: 172,743\n",
      "_________________________________________________________________\n"
     ]
    }
   ],
   "source": [
    "model.summary()"
   ]
  },
  {
   "cell_type": "code",
   "execution_count": null,
   "metadata": {},
   "outputs": [],
   "source": []
  }
 ],
 "metadata": {
  "kernelspec": {
   "display_name": "Python 3",
   "language": "python",
   "name": "python3"
  },
  "language_info": {
   "codemirror_mode": {
    "name": "ipython",
    "version": 3
   },
   "file_extension": ".py",
   "mimetype": "text/x-python",
   "name": "python",
   "nbconvert_exporter": "python",
   "pygments_lexer": "ipython3",
   "version": "3.7.7"
  }
 },
 "nbformat": 4,
 "nbformat_minor": 4
}
