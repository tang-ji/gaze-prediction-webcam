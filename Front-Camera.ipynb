{
 "cells": [
  {
   "cell_type": "code",
   "execution_count": 2,
   "metadata": {},
   "outputs": [],
   "source": [
    "import cv2, os, pyautogui, time\n",
    "import matplotlib.pyplot as plt\n",
    "from src.tools import *\n",
    "\n",
    "width, height= pyautogui.size()"
   ]
  },
  {
   "cell_type": "code",
   "execution_count": 6,
   "metadata": {},
   "outputs": [],
   "source": [
    "cap = cv2.VideoCapture(0)\n",
    "cap.set(cv2.CAP_PROP_FRAME_WIDTH, 320)\n",
    "cap.set(cv2.CAP_PROP_FRAME_HEIGHT, 240)\n",
    "try:\n",
    "    while(True): \n",
    "        ret, frame = cap.read()\n",
    "        preds = landmarks_detector.get_landmarks(frame)\n",
    "        try:\n",
    "            x_max, x_min, y_max, y_min = get_bound(preds)\n",
    "            cv2.rectangle(frame, (x_min, y_min), (x_max, y_max), color=(245, 245, 245), thickness=2) \n",
    "            box = get_box(get_bound(preds))\n",
    "        except:\n",
    "            pass\n",
    "        \n",
    "#         cv2.imshow('preview',warpBox(frame, box, target_height=32, target_width=64))\n",
    "        X.append(warpBox(frame, box, target_height=32, target_width=64))\n",
    "        \n",
    "        if cv2.waitKey(1) & 0xFF == ord('q'):\n",
    "            break\n",
    "except:\n",
    "    pass\n",
    "finally:\n",
    "    cv2.destroyAllWindows()\n",
    "    cap.release()"
   ]
  },
  {
   "cell_type": "code",
   "execution_count": 94,
   "metadata": {},
   "outputs": [],
   "source": [
    "# cv2.startWindowThread()\n",
    "cv2.namedWindow(\"window\", cv2.WND_PROP_FULLSCREEN)\n",
    "cv2.setWindowProperty(\"window\",cv2.WND_PROP_FULLSCREEN,cv2.WINDOW_FULLSCREEN)\n",
    "image = np.zeros((height, width, 3), np.uint8)\n",
    "image[:,:,:] = 215\n",
    "x, y = np.random.rand(), np.random.rand()\n",
    "cv2.circle(image, (int(x*width),int(y*height)), radius=30, color=(35,35,35), thickness=-2)\n",
    "cv2.imshow(\"window\", image)\n",
    "cv2.waitKey(2000)\n",
    "cv2.destroyAllWindows()"
   ]
  },
  {
   "cell_type": "markdown",
   "metadata": {},
   "source": [
    "# Collect"
   ]
  },
  {
   "cell_type": "markdown",
   "metadata": {},
   "source": [
    "## Method 1"
   ]
  },
  {
   "cell_type": "code",
   "execution_count": 17,
   "metadata": {},
   "outputs": [],
   "source": [
    "X, Y = [], []"
   ]
  },
  {
   "cell_type": "code",
   "execution_count": 4,
   "metadata": {},
   "outputs": [],
   "source": [
    "cap = cv2.VideoCapture(0)\n",
    "cap.set(cv2.CAP_PROP_FRAME_WIDTH, 320)\n",
    "cap.set(cv2.CAP_PROP_FRAME_HEIGHT, 240)\n",
    "cv2.namedWindow(\"window\", cv2.WND_PROP_FULLSCREEN)\n",
    "cv2.setWindowProperty(\"window\",cv2.WND_PROP_FULLSCREEN,cv2.WINDOW_FULLSCREEN)\n",
    "try:\n",
    "    for i in range(100): \n",
    "        image = np.zeros((height, width, 3), np.uint8)\n",
    "        image[:,:,:] = 215\n",
    "        x, y = np.random.uniform(), np.random.uniform()\n",
    "        Y.append([x,y])\n",
    "        cv2.circle(image, (int(x*width),int(y*height)), radius=30, color=(35,35,35), thickness=-2)\n",
    "        cv2.imshow(\"window\", image)\n",
    "        cv2.waitKey(500)\n",
    "        ret, frame = cap.read()\n",
    "        frame = cv2.cvtColor(frame, cv2.COLOR_BGR2GRAY)\n",
    "        preds = landmarks_detector.get_landmarks(frame)\n",
    "        try:\n",
    "            box = get_box(get_bound(preds))\n",
    "        except:\n",
    "            pass\n",
    "        \n",
    "#         cv2.imshow('preview',warpBox(frame, box, target_height=32, target_width=64))\n",
    "        X.append(warpBox(frame, box, target_height=32, target_width=64))\n",
    "        \n",
    "        if cv2.waitKey(1) & 0xFF == ord('q'):\n",
    "            break\n",
    "except:\n",
    "    pass\n",
    "finally:\n",
    "    cv2.destroyAllWindows()\n",
    "    cap.release()"
   ]
  },
  {
   "cell_type": "markdown",
   "metadata": {},
   "source": [
    "## Method 2"
   ]
  },
  {
   "cell_type": "code",
   "execution_count": 17,
   "metadata": {},
   "outputs": [],
   "source": [
    "X, X_temp, Y = [], [], []"
   ]
  },
  {
   "cell_type": "code",
   "execution_count": 18,
   "metadata": {},
   "outputs": [],
   "source": [
    "cap = cv2.VideoCapture(0)\n",
    "frame_width, frame_height = 320, 240\n",
    "cap.set(cv2.CAP_PROP_FRAME_WIDTH, frame_width)\n",
    "cap.set(cv2.CAP_PROP_FRAME_HEIGHT, frame_height)\n",
    "cv2.namedWindow(\"window\", cv2.WND_PROP_FULLSCREEN)\n",
    "cv2.setWindowProperty(\"window\",cv2.WND_PROP_FULLSCREEN,cv2.WINDOW_FULLSCREEN)\n",
    "class GetOutOfLoop(Exception):\n",
    "    pass\n",
    "\n",
    "target_height, target_width = 32, 64\n",
    "\n",
    "x, y = 0.5, 0.5\n",
    "image = np.zeros((height, width, 3), np.uint8)\n",
    "path = [[0,0], [1,0], [0,1], [1,1]]\n",
    "for i in range(10):\n",
    "    x_new, y_new = np.random.uniform(), np.random.uniform()\n",
    "    while abs(x_new - path[-1][0]) + abs(y_new-path[-1][0]) < 1.0:\n",
    "        x_new, y_new = np.random.uniform(), np.random.uniform()\n",
    "    path.append([x_new, y_new])\n",
    "np.random.shuffle(np.array(path))\n",
    "    \n",
    "try:\n",
    "    for x_new, y_new in path:\n",
    "        T = 2000\n",
    "        n = 150\n",
    "        for xc, yc in np.linspace([x, y], [x_new, y_new], n):\n",
    "            image[:,:,:] = 215\n",
    "            cv2.circle(image, (int(xc*width),int(yc*height)), radius=15, color=(35,35,35), thickness=-2)\n",
    "            cv2.imshow(\"window\", image)\n",
    "            cv2.waitKey(T//n)\n",
    "            ret, frame = cap.read()\n",
    "            frame = cv2.cvtColor(frame, cv2.COLOR_BGR2GRAY)\n",
    "#             preds = landmarks_detector.get_landmarks(frame)\n",
    "#             try:\n",
    "#                 box = get_box(get_bound(preds))\n",
    "#             except:\n",
    "#                 pass\n",
    "#             X.append(warpBox(frame, box, target_height=target_height, target_width=target_width))\n",
    "            X_temp.append(frame)\n",
    "            Y.append([xc,yc])\n",
    "            if cv2.waitKey(1) & 0xFF == ord('q'):\n",
    "                raise GetOutOfLoop\n",
    "        x, y = x_new, y_new\n",
    "except Exception as e:\n",
    "    print(e)\n",
    "finally:\n",
    "    cv2.destroyAllWindows()\n",
    "    cap.release()"
   ]
  },
  {
   "cell_type": "code",
   "execution_count": 19,
   "metadata": {},
   "outputs": [
    {
     "data": {
      "application/vnd.jupyter.widget-view+json": {
       "model_id": "625a5eeaa5d64343b78cafb14f8b23b1",
       "version_major": 2,
       "version_minor": 0
      },
      "text/plain": [
       "IntProgress(value=0, max=2100)"
      ]
     },
     "metadata": {},
     "output_type": "display_data"
    }
   ],
   "source": [
    "from ipywidgets import IntProgress\n",
    "from IPython.display import display\n",
    "\n",
    "target_height, target_width = 32, 64\n",
    "max_count = len(X_temp)\n",
    "\n",
    "f = IntProgress(min=0, max=max_count) # instantiate the bar\n",
    "display(f) # display the bar\n",
    "\n",
    "X = []\n",
    "for frame in X_temp:\n",
    "    preds = landmarks_detector.get_landmarks(frame)\n",
    "    try:\n",
    "        box = get_box(get_bound(preds))\n",
    "    except:\n",
    "        pass\n",
    "    X.append(warpBox(frame, box, target_height=target_height, target_width=target_width))\n",
    "    f.value += 1"
   ]
  },
  {
   "cell_type": "code",
   "execution_count": 20,
   "metadata": {},
   "outputs": [
    {
     "name": "stdout",
     "output_type": "stream",
     "text": [
      "(2100, 32, 64, 1) (2100, 2)\n"
     ]
    }
   ],
   "source": [
    "X = np.array(X)/255.0\n",
    "X = np.expand_dims(X, -1)\n",
    "Y = np.array(Y[:len(X)])\n",
    "\n",
    "print(X.shape, Y.shape)"
   ]
  },
  {
   "cell_type": "code",
   "execution_count": 21,
   "metadata": {},
   "outputs": [],
   "source": [
    "X_old = np.load(\"X.npy\")\n",
    "Y_old = np.load(\"Y.npy\")"
   ]
  },
  {
   "cell_type": "code",
   "execution_count": 22,
   "metadata": {},
   "outputs": [],
   "source": [
    "X = np.concatenate([X, X_old])\n",
    "Y = np.concatenate([Y, Y_old])"
   ]
  },
  {
   "cell_type": "code",
   "execution_count": 125,
   "metadata": {},
   "outputs": [],
   "source": [
    "np.save(\"X.npy\", X)\n",
    "np.save(\"Y.npy\", Y)"
   ]
  },
  {
   "cell_type": "code",
   "execution_count": 115,
   "metadata": {},
   "outputs": [],
   "source": [
    "X_old, Y_old = X, Y"
   ]
  },
  {
   "cell_type": "markdown",
   "metadata": {},
   "source": [
    "# Train model"
   ]
  },
  {
   "cell_type": "code",
   "execution_count": 23,
   "metadata": {},
   "outputs": [
    {
     "name": "stdout",
     "output_type": "stream",
     "text": [
      "WARNING:tensorflow:From /Users/jojo/opt/anaconda3/lib/python3.7/site-packages/tensorflow_core/python/ops/resource_variable_ops.py:1630: calling BaseResourceVariable.__init__ (from tensorflow.python.ops.resource_variable_ops) with constraint is deprecated and will be removed in a future version.\n",
      "Instructions for updating:\n",
      "If using Keras pass *_constraint arguments to layers.\n",
      "Model: \"sequential\"\n",
      "_________________________________________________________________\n",
      "Layer (type)                 Output Shape              Param #   \n",
      "=================================================================\n",
      "conv2d (Conv2D)              (None, 30, 62, 32)        320       \n",
      "_________________________________________________________________\n",
      "max_pooling2d (MaxPooling2D) (None, 15, 31, 32)        0         \n",
      "_________________________________________________________________\n",
      "conv2d_1 (Conv2D)            (None, 13, 29, 64)        18496     \n",
      "_________________________________________________________________\n",
      "max_pooling2d_1 (MaxPooling2 (None, 6, 14, 64)         0         \n",
      "_________________________________________________________________\n",
      "conv2d_2 (Conv2D)            (None, 4, 12, 64)         36928     \n",
      "_________________________________________________________________\n",
      "flatten (Flatten)            (None, 3072)              0         \n",
      "_________________________________________________________________\n",
      "dense (Dense)                (None, 32)                98336     \n",
      "_________________________________________________________________\n",
      "dense_1 (Dense)              (None, 2)                 66        \n",
      "=================================================================\n",
      "Total params: 154,146\n",
      "Trainable params: 154,146\n",
      "Non-trainable params: 0\n",
      "_________________________________________________________________\n"
     ]
    }
   ],
   "source": [
    "import tensorflow as tf\n",
    "from tensorflow.keras import layers, models\n",
    "model = models.Sequential()\n",
    "model.add(layers.Conv2D(32, (3, 3), activation='relu', input_shape=(target_height, target_width, 1)))\n",
    "model.add(layers.MaxPooling2D((2, 2)))\n",
    "model.add(layers.Conv2D(64, (3, 3), activation='relu'))\n",
    "model.add(layers.MaxPooling2D((2, 2)))\n",
    "model.add(layers.Conv2D(64, (3, 3), activation='relu'))\n",
    "model.add(layers.Flatten())\n",
    "model.add(layers.Dense(32, activation='relu'))\n",
    "model.add(layers.Dense(2, activation='sigmoid'))\n",
    "\n",
    "model.compile(optimizer='adam', loss=\"mse\")\n",
    "model.summary() "
   ]
  },
  {
   "cell_type": "code",
   "execution_count": 24,
   "metadata": {},
   "outputs": [
    {
     "name": "stderr",
     "output_type": "stream",
     "text": [
      "/Users/jojo/opt/anaconda3/lib/python3.7/site-packages/sklearn/model_selection/_split.py:2179: FutureWarning: From version 0.21, test_size will always complement train_size unless both are specified.\n",
      "  FutureWarning)\n"
     ]
    }
   ],
   "source": [
    "from sklearn.model_selection import train_test_split\n",
    "train_set, test_set = train_test_split(list(range(len(X))), train_size=0.9, shuffle=True)"
   ]
  },
  {
   "cell_type": "code",
   "execution_count": 25,
   "metadata": {
    "scrolled": true
   },
   "outputs": [
    {
     "name": "stdout",
     "output_type": "stream",
     "text": [
      "Train on 5670 samples, validate on 630 samples\n",
      "Epoch 1/100\n",
      "5670/5670 [==============================] - 5s 893us/sample - loss: 0.0753 - val_loss: 0.0737\n",
      "Epoch 2/100\n",
      "5670/5670 [==============================] - 4s 741us/sample - loss: 0.0552 - val_loss: 0.0457\n",
      "Epoch 3/100\n",
      "5670/5670 [==============================] - 5s 794us/sample - loss: 0.0337 - val_loss: 0.0270\n",
      "Epoch 4/100\n",
      "5670/5670 [==============================] - 4s 772us/sample - loss: 0.0232 - val_loss: 0.0200\n",
      "Epoch 5/100\n",
      "5670/5670 [==============================] - 5s 797us/sample - loss: 0.0182 - val_loss: 0.0175\n",
      "Epoch 6/100\n",
      "5670/5670 [==============================] - 4s 792us/sample - loss: 0.0157 - val_loss: 0.0165\n",
      "Epoch 7/100\n",
      "5670/5670 [==============================] - 4s 779us/sample - loss: 0.0146 - val_loss: 0.0178\n",
      "Epoch 8/100\n",
      "5670/5670 [==============================] - 4s 790us/sample - loss: 0.0141 - val_loss: 0.0129\n",
      "Epoch 9/100\n",
      "5670/5670 [==============================] - 4s 788us/sample - loss: 0.0120 - val_loss: 0.0122\n",
      "Epoch 10/100\n",
      "5670/5670 [==============================] - 5s 796us/sample - loss: 0.0110 - val_loss: 0.0123\n",
      "Epoch 11/100\n",
      "5670/5670 [==============================] - 4s 787us/sample - loss: 0.0105 - val_loss: 0.0106\n",
      "Epoch 12/100\n",
      "5670/5670 [==============================] - 4s 788us/sample - loss: 0.0098 - val_loss: 0.0128\n",
      "Epoch 13/100\n",
      "5670/5670 [==============================] - 5s 800us/sample - loss: 0.0102 - val_loss: 0.0094\n",
      "Epoch 14/100\n",
      "5670/5670 [==============================] - 4s 792us/sample - loss: 0.0085 - val_loss: 0.0087\n",
      "Epoch 15/100\n",
      "5670/5670 [==============================] - 5s 796us/sample - loss: 0.0079 - val_loss: 0.0083\n",
      "Epoch 16/100\n",
      "5670/5670 [==============================] - 4s 786us/sample - loss: 0.0075 - val_loss: 0.0080\n",
      "Epoch 17/100\n",
      "5670/5670 [==============================] - 5s 802us/sample - loss: 0.0072 - val_loss: 0.0080\n",
      "Epoch 18/100\n",
      "5670/5670 [==============================] - 4s 782us/sample - loss: 0.0074 - val_loss: 0.0071\n",
      "Epoch 19/100\n",
      "5670/5670 [==============================] - 4s 794us/sample - loss: 0.0063 - val_loss: 0.0070\n",
      "Epoch 20/100\n",
      "5670/5670 [==============================] - 5s 862us/sample - loss: 0.0064 - val_loss: 0.0065\n",
      "Epoch 21/100\n",
      "5670/5670 [==============================] - 5s 839us/sample - loss: 0.0060 - val_loss: 0.0064\n",
      "Epoch 22/100\n",
      "5670/5670 [==============================] - 5s 830us/sample - loss: 0.0059 - val_loss: 0.0069\n",
      "Epoch 23/100\n",
      "5670/5670 [==============================] - 5s 846us/sample - loss: 0.0055 - val_loss: 0.0060\n",
      "Epoch 24/100\n",
      "5670/5670 [==============================] - 5s 837us/sample - loss: 0.0054 - val_loss: 0.0068\n",
      "Epoch 25/100\n",
      "5670/5670 [==============================] - 5s 829us/sample - loss: 0.0052 - val_loss: 0.0059\n",
      "Epoch 26/100\n",
      "5670/5670 [==============================] - 5s 797us/sample - loss: 0.0047 - val_loss: 0.0053\n",
      "Epoch 27/100\n",
      "5670/5670 [==============================] - 5s 797us/sample - loss: 0.0045 - val_loss: 0.0053\n",
      "Epoch 28/100\n",
      "5670/5670 [==============================] - 5s 798us/sample - loss: 0.0048 - val_loss: 0.0051\n",
      "Epoch 29/100\n",
      "5670/5670 [==============================] - 5s 837us/sample - loss: 0.0043 - val_loss: 0.0057\n",
      "Epoch 30/100\n",
      "5670/5670 [==============================] - 5s 828us/sample - loss: 0.0043 - val_loss: 0.0061\n",
      "Epoch 31/100\n",
      "5670/5670 [==============================] - 5s 859us/sample - loss: 0.0045 - val_loss: 0.0062\n",
      "Epoch 32/100\n",
      "5670/5670 [==============================] - 5s 798us/sample - loss: 0.0047 - val_loss: 0.0045\n",
      "Epoch 33/100\n",
      "5670/5670 [==============================] - 5s 803us/sample - loss: 0.0040 - val_loss: 0.0064\n",
      "Epoch 34/100\n",
      "5670/5670 [==============================] - 4s 792us/sample - loss: 0.0039 - val_loss: 0.0042\n",
      "Epoch 35/100\n",
      "5670/5670 [==============================] - 5s 804us/sample - loss: 0.0036 - val_loss: 0.0041\n",
      "Epoch 36/100\n",
      "5670/5670 [==============================] - 5s 801us/sample - loss: 0.0036 - val_loss: 0.0048\n",
      "Epoch 37/100\n",
      "5670/5670 [==============================] - 5s 802us/sample - loss: 0.0039 - val_loss: 0.0049\n",
      "Epoch 38/100\n",
      "5670/5670 [==============================] - 5s 802us/sample - loss: 0.0035 - val_loss: 0.0041\n",
      "Epoch 39/100\n",
      "5670/5670 [==============================] - 4s 793us/sample - loss: 0.0034 - val_loss: 0.0040\n",
      "Epoch 40/100\n",
      "5670/5670 [==============================] - 5s 808us/sample - loss: 0.0033 - val_loss: 0.0041\n",
      "Epoch 41/100\n",
      "5670/5670 [==============================] - 5s 798us/sample - loss: 0.0034 - val_loss: 0.0038\n",
      "Epoch 42/100\n",
      "5670/5670 [==============================] - 5s 809us/sample - loss: 0.0033 - val_loss: 0.0037\n",
      "Epoch 43/100\n",
      "5670/5670 [==============================] - 5s 831us/sample - loss: 0.0030 - val_loss: 0.0040\n",
      "Epoch 44/100\n",
      "5670/5670 [==============================] - 4s 781us/sample - loss: 0.0031 - val_loss: 0.0040\n",
      "Epoch 45/100\n",
      "5670/5670 [==============================] - 5s 808us/sample - loss: 0.0031 - val_loss: 0.0039\n",
      "Epoch 46/100\n",
      "5670/5670 [==============================] - 5s 836us/sample - loss: 0.0030 - val_loss: 0.0037\n",
      "Epoch 47/100\n",
      "5670/5670 [==============================] - 5s 811us/sample - loss: 0.0030 - val_loss: 0.0044\n",
      "Epoch 48/100\n",
      "5670/5670 [==============================] - 5s 806us/sample - loss: 0.0029 - val_loss: 0.0032\n",
      "Epoch 49/100\n",
      "5670/5670 [==============================] - 5s 799us/sample - loss: 0.0029 - val_loss: 0.0034\n",
      "Epoch 50/100\n",
      "5670/5670 [==============================] - 5s 798us/sample - loss: 0.0029 - val_loss: 0.0033\n",
      "Epoch 51/100\n",
      "5670/5670 [==============================] - 5s 799us/sample - loss: 0.0028 - val_loss: 0.0032\n",
      "Epoch 52/100\n",
      "5670/5670 [==============================] - 4s 790us/sample - loss: 0.0028 - val_loss: 0.0037\n",
      "Epoch 53/100\n",
      "5670/5670 [==============================] - 4s 782us/sample - loss: 0.0027 - val_loss: 0.0031\n",
      "Epoch 54/100\n",
      "5670/5670 [==============================] - 4s 785us/sample - loss: 0.0026 - val_loss: 0.0030\n",
      "Epoch 55/100\n",
      "5670/5670 [==============================] - 4s 785us/sample - loss: 0.0026 - val_loss: 0.0032\n",
      "Epoch 56/100\n",
      "5670/5670 [==============================] - 5s 796us/sample - loss: 0.0027 - val_loss: 0.0035\n",
      "Epoch 57/100\n",
      "5670/5670 [==============================] - 5s 804us/sample - loss: 0.0028 - val_loss: 0.0034\n",
      "Epoch 58/100\n",
      "5670/5670 [==============================] - 5s 807us/sample - loss: 0.0031 - val_loss: 0.0031\n",
      "Epoch 59/100\n",
      "5670/5670 [==============================] - 4s 779us/sample - loss: 0.0027 - val_loss: 0.0031\n",
      "Epoch 60/100\n",
      "5670/5670 [==============================] - 4s 774us/sample - loss: 0.0028 - val_loss: 0.0035\n",
      "Epoch 61/100\n",
      "5670/5670 [==============================] - 4s 781us/sample - loss: 0.0028 - val_loss: 0.0030\n",
      "Epoch 62/100\n",
      "5670/5670 [==============================] - 4s 776us/sample - loss: 0.0025 - val_loss: 0.0029\n",
      "Epoch 63/100\n",
      "5670/5670 [==============================] - 5s 797us/sample - loss: 0.0024 - val_loss: 0.0028\n",
      "Epoch 64/100\n",
      "5670/5670 [==============================] - 5s 794us/sample - loss: 0.0025 - val_loss: 0.0028\n",
      "Epoch 65/100\n",
      "5670/5670 [==============================] - 5s 796us/sample - loss: 0.0024 - val_loss: 0.0029\n",
      "Epoch 66/100\n",
      "5670/5670 [==============================] - 4s 776us/sample - loss: 0.0024 - val_loss: 0.0027\n",
      "Epoch 67/100\n",
      "5670/5670 [==============================] - 4s 782us/sample - loss: 0.0024 - val_loss: 0.0026\n",
      "Epoch 68/100\n",
      "5670/5670 [==============================] - 4s 784us/sample - loss: 0.0024 - val_loss: 0.0027\n",
      "Epoch 69/100\n",
      "5670/5670 [==============================] - 4s 791us/sample - loss: 0.0022 - val_loss: 0.0028\n",
      "Epoch 70/100\n",
      "5670/5670 [==============================] - 5s 796us/sample - loss: 0.0023 - val_loss: 0.0027\n",
      "Epoch 71/100\n",
      "5670/5670 [==============================] - 5s 797us/sample - loss: 0.0022 - val_loss: 0.0035\n",
      "Epoch 72/100\n",
      "5670/5670 [==============================] - 4s 779us/sample - loss: 0.0024 - val_loss: 0.0041\n",
      "Epoch 73/100\n",
      "5670/5670 [==============================] - 4s 785us/sample - loss: 0.0026 - val_loss: 0.0027\n",
      "Epoch 74/100\n",
      "5670/5670 [==============================] - 4s 781us/sample - loss: 0.0022 - val_loss: 0.0025\n",
      "Epoch 75/100\n",
      "5670/5670 [==============================] - 4s 785us/sample - loss: 0.0021 - val_loss: 0.0026\n",
      "Epoch 76/100\n"
     ]
    },
    {
     "name": "stdout",
     "output_type": "stream",
     "text": [
      "5670/5670 [==============================] - 5s 797us/sample - loss: 0.0023 - val_loss: 0.0024\n",
      "Epoch 77/100\n",
      "5670/5670 [==============================] - 4s 792us/sample - loss: 0.0021 - val_loss: 0.0026\n",
      "Epoch 78/100\n",
      "5670/5670 [==============================] - 4s 769us/sample - loss: 0.0021 - val_loss: 0.0026\n",
      "Epoch 79/100\n",
      "5670/5670 [==============================] - 4s 774us/sample - loss: 0.0021 - val_loss: 0.0024\n",
      "Epoch 80/100\n",
      "5670/5670 [==============================] - 4s 773us/sample - loss: 0.0021 - val_loss: 0.0024\n",
      "Epoch 81/100\n",
      "5670/5670 [==============================] - 4s 771us/sample - loss: 0.0021 - val_loss: 0.0026\n",
      "Epoch 82/100\n",
      "5670/5670 [==============================] - 4s 777us/sample - loss: 0.0020 - val_loss: 0.0023\n",
      "Epoch 83/100\n",
      "5670/5670 [==============================] - 4s 770us/sample - loss: 0.0021 - val_loss: 0.0025\n",
      "Epoch 84/100\n",
      "5670/5670 [==============================] - 4s 777us/sample - loss: 0.0020 - val_loss: 0.0024\n",
      "Epoch 85/100\n",
      "5670/5670 [==============================] - 4s 790us/sample - loss: 0.0021 - val_loss: 0.0029\n",
      "Epoch 86/100\n",
      "5670/5670 [==============================] - 4s 790us/sample - loss: 0.0020 - val_loss: 0.0023\n",
      "Epoch 87/100\n",
      "5670/5670 [==============================] - 4s 786us/sample - loss: 0.0019 - val_loss: 0.0022\n",
      "Epoch 88/100\n",
      "5670/5670 [==============================] - 4s 775us/sample - loss: 0.0020 - val_loss: 0.0040\n",
      "Epoch 89/100\n",
      "5670/5670 [==============================] - 4s 770us/sample - loss: 0.0022 - val_loss: 0.0023\n",
      "Epoch 90/100\n",
      "5670/5670 [==============================] - 4s 778us/sample - loss: 0.0021 - val_loss: 0.0024\n",
      "Epoch 91/100\n",
      "5670/5670 [==============================] - 4s 778us/sample - loss: 0.0022 - val_loss: 0.0030\n",
      "Epoch 92/100\n",
      "5670/5670 [==============================] - 4s 785us/sample - loss: 0.0022 - val_loss: 0.0025\n",
      "Epoch 93/100\n",
      "5670/5670 [==============================] - 4s 767us/sample - loss: 0.0020 - val_loss: 0.0022\n",
      "Epoch 94/100\n",
      "5670/5670 [==============================] - 4s 770us/sample - loss: 0.0018 - val_loss: 0.0021\n",
      "Epoch 95/100\n",
      "5670/5670 [==============================] - 4s 783us/sample - loss: 0.0019 - val_loss: 0.0022\n",
      "Epoch 96/100\n",
      "5670/5670 [==============================] - 4s 791us/sample - loss: 0.0018 - val_loss: 0.0022\n",
      "Epoch 97/100\n",
      "5670/5670 [==============================] - 4s 780us/sample - loss: 0.0018 - val_loss: 0.0023\n",
      "Epoch 98/100\n",
      "5670/5670 [==============================] - 4s 775us/sample - loss: 0.0019 - val_loss: 0.0028\n",
      "Epoch 99/100\n",
      "5670/5670 [==============================] - 4s 781us/sample - loss: 0.0019 - val_loss: 0.0024\n",
      "Epoch 100/100\n",
      "5670/5670 [==============================] - 4s 770us/sample - loss: 0.0018 - val_loss: 0.0022\n"
     ]
    }
   ],
   "source": [
    "history = model.fit(X[train_set], Y[train_set], batch_size=256, epochs=100, validation_data=(X[test_set], Y[test_set]))"
   ]
  },
  {
   "cell_type": "markdown",
   "metadata": {},
   "source": [
    "# Test"
   ]
  },
  {
   "cell_type": "markdown",
   "metadata": {},
   "source": [
    "Point test"
   ]
  },
  {
   "cell_type": "code",
   "execution_count": 90,
   "metadata": {},
   "outputs": [
    {
     "name": "stdout",
     "output_type": "stream",
     "text": [
      "\n"
     ]
    }
   ],
   "source": [
    "cap = cv2.VideoCapture(0)\n",
    "cap.set(cv2.CAP_PROP_FRAME_WIDTH, frame_width)\n",
    "cap.set(cv2.CAP_PROP_FRAME_HEIGHT, frame_height)\n",
    "cv2.namedWindow(\"window\", cv2.WND_PROP_FULLSCREEN)\n",
    "cv2.setWindowProperty(\"window\",cv2.WND_PROP_FULLSCREEN,cv2.WINDOW_FULLSCREEN)\n",
    "image = np.zeros((height, width, 3), np.uint8)\n",
    "\n",
    "try:\n",
    "    while(True): \n",
    "        ret, frame = cap.read()\n",
    "        frame = cv2.cvtColor(frame, cv2.COLOR_BGR2GRAY)\n",
    "        preds = landmarks_detector.get_landmarks(frame)\n",
    "        try:\n",
    "            box = get_box(get_bound(preds))\n",
    "        except:\n",
    "            pass\n",
    "        img = warpBox(frame, box, target_height=target_height, target_width=target_width) / 255.0\n",
    "        img = np.expand_dims(np.expand_dims(img, 0), -1)\n",
    "        [x, y] = model.predict(img)[0]\n",
    "        image[:,:,:] = 215\n",
    "        cv2.circle(image, (int(x*width),int(y*height)), radius=30, color=(35,35,35), thickness=-2)\n",
    "        cv2.imshow(\"window\", image)        \n",
    "        if cv2.waitKey(1) & 0xFF == ord('q'):\n",
    "            raise GetOutOfLoop\n",
    "except Exception as e:\n",
    "    print(e)\n",
    "finally:\n",
    "    cv2.destroyAllWindows()\n",
    "    cap.release()"
   ]
  },
  {
   "cell_type": "markdown",
   "metadata": {},
   "source": [
    "Mouse test"
   ]
  },
  {
   "cell_type": "code",
   "execution_count": 36,
   "metadata": {},
   "outputs": [],
   "source": [
    "cap = cv2.VideoCapture(0)\n",
    "cap.set(cv2.CAP_PROP_FRAME_WIDTH, frame_width)\n",
    "cap.set(cv2.CAP_PROP_FRAME_HEIGHT, frame_height)\n",
    "\n",
    "try:\n",
    "    while(True): \n",
    "        ret, frame = cap.read()\n",
    "        if ret:\n",
    "            frame = cv2.cvtColor(frame, cv2.COLOR_BGR2GRAY)\n",
    "            preds = landmarks_detector.get_landmarks(frame)\n",
    "            try:\n",
    "                box = get_box(get_bound(preds))\n",
    "            except:\n",
    "                pass\n",
    "            img = warpBox(frame, box, target_height=target_height, target_width=target_width) / 255.0\n",
    "            img = np.expand_dims(np.expand_dims(img, 0), -1)\n",
    "            [x, y] = model.predict(img)[0]\n",
    "            pyautogui.moveTo(x * width, y * height, duration=0.15)\n",
    "        if cv2.waitKey(1) & 0xFF == ord('q'):\n",
    "            raise GetOutOfLoop\n",
    "except:\n",
    "    pass\n",
    "finally:\n",
    "    cv2.destroyAllWindows()\n",
    "    cap.release()"
   ]
  },
  {
   "cell_type": "code",
   "execution_count": null,
   "metadata": {},
   "outputs": [],
   "source": []
  }
 ],
 "metadata": {
  "kernelspec": {
   "display_name": "Python 3",
   "language": "python",
   "name": "python3"
  },
  "language_info": {
   "codemirror_mode": {
    "name": "ipython",
    "version": 3
   },
   "file_extension": ".py",
   "mimetype": "text/x-python",
   "name": "python",
   "nbconvert_exporter": "python",
   "pygments_lexer": "ipython3",
   "version": "3.7.7"
  }
 },
 "nbformat": 4,
 "nbformat_minor": 4
}
