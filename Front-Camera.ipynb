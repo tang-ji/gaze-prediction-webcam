{
 "cells": [
  {
   "cell_type": "code",
   "execution_count": 1,
   "metadata": {},
   "outputs": [],
   "source": [
    "import cv2, os\n",
    "import matplotlib.pyplot as plt\n",
    "from src.tools import *"
   ]
  },
  {
   "cell_type": "code",
   "execution_count": 66,
   "metadata": {},
   "outputs": [],
   "source": [
    "cap = cv2.VideoCapture(0)\n",
    "cap.set(cv2.CAP_PROP_FRAME_WIDTH, 640)\n",
    "cap.set(cv2.CAP_PROP_FRAME_HEIGHT, 480)\n",
    "ret, frame = cap.read()\n",
    "cv2.destroyAllWindows()\n",
    "cap.release()"
   ]
  },
  {
   "cell_type": "code",
   "execution_count": 96,
   "metadata": {},
   "outputs": [],
   "source": [
    "def get_bound(points):\n",
    "    x_max = np.max(points, axis=0)[0]\n",
    "    x_min = np.min(points, axis=0)[0]\n",
    "    y_max = np.max(points, axis=0)[1]\n",
    "    y_min = np.min(points, axis=0)[1]\n",
    "    x_d = (x_max-x_min)*0.1\n",
    "    x_min -= x_d\n",
    "    x_max += x_d\n",
    "    y_d = (y_max-y_min)*0.3\n",
    "    y_min -= y_d\n",
    "    y_max -= y_d\n",
    "    return int(x_max), int(x_min), int(y_max), int(y_min)"
   ]
  },
  {
   "cell_type": "code",
   "execution_count": 97,
   "metadata": {},
   "outputs": [],
   "source": [
    "cap = cv2.VideoCapture(0)\n",
    "cap.set(cv2.CAP_PROP_FRAME_WIDTH, 640)\n",
    "cap.set(cv2.CAP_PROP_FRAME_HEIGHT, 480)\n",
    "try:\n",
    "    while(True): \n",
    "        ret, frame = cap.read()\n",
    "        preds = landmarks_detector.get_landmarks(frame)\n",
    "        try:\n",
    "            x_max, x_min, y_max, y_min = get_bound(preds)\n",
    "            cv2.rectangle(frame, (x_min, y_min), (x_max, y_max), color=(245, 245, 245), thickness=2) \n",
    "        except:\n",
    "            pass\n",
    "        cv2.imshow('preview',frame)\n",
    "        if cv2.waitKey(1) & 0xFF == ord('q'):\n",
    "            break\n",
    "except:\n",
    "    pass\n",
    "finally:\n",
    "    cv2.destroyAllWindows()\n",
    "    cap.release()"
   ]
  },
  {
   "cell_type": "code",
   "execution_count": null,
   "metadata": {},
   "outputs": [],
   "source": []
  }
 ],
 "metadata": {
  "kernelspec": {
   "display_name": "Python 3",
   "language": "python",
   "name": "python3"
  },
  "language_info": {
   "codemirror_mode": {
    "name": "ipython",
    "version": 3
   },
   "file_extension": ".py",
   "mimetype": "text/x-python",
   "name": "python",
   "nbconvert_exporter": "python",
   "pygments_lexer": "ipython3",
   "version": "3.7.6"
  }
 },
 "nbformat": 4,
 "nbformat_minor": 4
}
