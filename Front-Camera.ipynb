{
 "cells": [
  {
   "cell_type": "code",
   "execution_count": 32,
   "metadata": {},
   "outputs": [],
   "source": [
    "import cv2, os, pyautogui, time\n",
    "import matplotlib.pyplot as plt\n",
    "from src.tools import *\n",
    "\n",
    "width, height= pyautogui.size()"
   ]
  },
  {
   "cell_type": "code",
   "execution_count": 6,
   "metadata": {},
   "outputs": [],
   "source": [
    "cap = cv2.VideoCapture(0)\n",
    "cap.set(cv2.CAP_PROP_FRAME_WIDTH, 320)\n",
    "cap.set(cv2.CAP_PROP_FRAME_HEIGHT, 240)\n",
    "try:\n",
    "    while(True): \n",
    "        ret, frame = cap.read()\n",
    "        preds = landmarks_detector.get_landmarks(frame)\n",
    "        try:\n",
    "            x_max, x_min, y_max, y_min = get_bound(preds)\n",
    "            cv2.rectangle(frame, (x_min, y_min), (x_max, y_max), color=(245, 245, 245), thickness=2) \n",
    "            box = get_box(get_bound(preds))\n",
    "        except:\n",
    "            pass\n",
    "        \n",
    "#         cv2.imshow('preview',warpBox(frame, box, target_height=32, target_width=64))\n",
    "        X.append(warpBox(frame, box, target_height=32, target_width=64))\n",
    "        \n",
    "        if cv2.waitKey(1) & 0xFF == ord('q'):\n",
    "            break\n",
    "except:\n",
    "    pass\n",
    "finally:\n",
    "    cv2.destroyAllWindows()\n",
    "    cap.release()"
   ]
  },
  {
   "cell_type": "code",
   "execution_count": 94,
   "metadata": {},
   "outputs": [],
   "source": [
    "# cv2.startWindowThread()\n",
    "cv2.namedWindow(\"window\", cv2.WND_PROP_FULLSCREEN)\n",
    "cv2.setWindowProperty(\"window\",cv2.WND_PROP_FULLSCREEN,cv2.WINDOW_FULLSCREEN)\n",
    "image = np.zeros((height, width, 3), np.uint8)\n",
    "image[:,:,:] = 215\n",
    "x, y = np.random.rand(), np.random.rand()\n",
    "cv2.circle(image, (int(x*width),int(y*height)), radius=30, color=(35,35,35), thickness=-2)\n",
    "cv2.imshow(\"window\", image)\n",
    "cv2.waitKey(2000)\n",
    "cv2.destroyAllWindows()"
   ]
  },
  {
   "cell_type": "markdown",
   "metadata": {},
   "source": [
    "# Collect"
   ]
  },
  {
   "cell_type": "code",
   "execution_count": 143,
   "metadata": {},
   "outputs": [],
   "source": [
    "X, Y = [], []"
   ]
  },
  {
   "cell_type": "markdown",
   "metadata": {},
   "source": [
    "## Method 1"
   ]
  },
  {
   "cell_type": "code",
   "execution_count": 134,
   "metadata": {},
   "outputs": [],
   "source": [
    "cap = cv2.VideoCapture(0)\n",
    "cap.set(cv2.CAP_PROP_FRAME_WIDTH, 320)\n",
    "cap.set(cv2.CAP_PROP_FRAME_HEIGHT, 240)\n",
    "cv2.namedWindow(\"window\", cv2.WND_PROP_FULLSCREEN)\n",
    "cv2.setWindowProperty(\"window\",cv2.WND_PROP_FULLSCREEN,cv2.WINDOW_FULLSCREEN)\n",
    "try:\n",
    "    for i in range(100): \n",
    "        image = np.zeros((height, width, 3), np.uint8)\n",
    "        image[:,:,:] = 215\n",
    "        x, y = np.random.uniform(), np.random.uniform()\n",
    "        Y.append([x,y])\n",
    "        cv2.circle(image, (int(x*width),int(y*height)), radius=30, color=(35,35,35), thickness=-2)\n",
    "        cv2.imshow(\"window\", image)\n",
    "        cv2.waitKey(500)\n",
    "        ret, frame = cap.read()\n",
    "        preds = landmarks_detector.get_landmarks(frame)\n",
    "        try:\n",
    "            x_max, x_min, y_max, y_min = get_bound(preds)\n",
    "            cv2.rectangle(frame, (x_min, y_min), (x_max, y_max), color=(245, 245, 245), thickness=2) \n",
    "            box = get_box(get_bound(preds))\n",
    "        except:\n",
    "            pass\n",
    "        \n",
    "#         cv2.imshow('preview',warpBox(frame, box, target_height=32, target_width=64))\n",
    "        X.append(warpBox(frame, box, target_height=32, target_width=64))\n",
    "        \n",
    "        if cv2.waitKey(1) & 0xFF == ord('q'):\n",
    "            break\n",
    "except:\n",
    "    pass\n",
    "finally:\n",
    "    cv2.destroyAllWindows()\n",
    "    cap.release()"
   ]
  },
  {
   "cell_type": "markdown",
   "metadata": {},
   "source": [
    "## Method 2"
   ]
  },
  {
   "cell_type": "code",
   "execution_count": 144,
   "metadata": {},
   "outputs": [],
   "source": [
    "cap = cv2.VideoCapture(0)\n",
    "cap.set(cv2.CAP_PROP_FRAME_WIDTH, 320)\n",
    "cap.set(cv2.CAP_PROP_FRAME_HEIGHT, 240)\n",
    "cv2.namedWindow(\"window\", cv2.WND_PROP_FULLSCREEN)\n",
    "cv2.setWindowProperty(\"window\",cv2.WND_PROP_FULLSCREEN,cv2.WINDOW_FULLSCREEN)\n",
    "\n",
    "x, y = 0.5, 0.5\n",
    "try:\n",
    "    for i in range(2000): \n",
    "        image = np.zeros((height, width, 3), np.uint8)\n",
    "        image[:,:,:] = 215\n",
    "        x = min(1, max(0, x + (np.random.uniform()-0.5)*0.01))\n",
    "        y = min(1, max(0, y + (np.random.uniform()-0.5)*0.01))\n",
    "        Y.append([x,y])\n",
    "        cv2.circle(image, (int(x*width),int(y*height)), radius=30, color=(35,35,35), thickness=-2)\n",
    "        cv2.imshow(\"window\", image)\n",
    "        cv2.waitKey(20)\n",
    "        ret, frame = cap.read()\n",
    "        preds = landmarks_detector.get_landmarks(frame)\n",
    "        try:\n",
    "            x_max, x_min, y_max, y_min = get_bound(preds)\n",
    "            cv2.rectangle(frame, (x_min, y_min), (x_max, y_max), color=(245, 245, 245), thickness=2) \n",
    "            box = get_box(get_bound(preds))\n",
    "        except:\n",
    "            pass\n",
    "        \n",
    "#         cv2.imshow('preview',warpBox(frame, box, target_height=32, target_width=64))\n",
    "        X.append(warpBox(frame, box, target_height=32, target_width=64))\n",
    "        \n",
    "        if cv2.waitKey(1) & 0xFF == ord('q'):\n",
    "            break\n",
    "except:\n",
    "    pass\n",
    "finally:\n",
    "    cv2.destroyAllWindows()\n",
    "    cap.release()"
   ]
  },
  {
   "cell_type": "code",
   "execution_count": 135,
   "metadata": {},
   "outputs": [
    {
     "name": "stdout",
     "output_type": "stream",
     "text": [
      "(105, 32, 64, 3) (105, 2)\n"
     ]
    }
   ],
   "source": [
    "X = np.array(X)/255.0\n",
    "Y = np.array(Y[:len(X)])\n",
    "\n",
    "print(X.shape, Y.shape)"
   ]
  },
  {
   "cell_type": "markdown",
   "metadata": {},
   "source": [
    "# Train model"
   ]
  },
  {
   "cell_type": "code",
   "execution_count": 136,
   "metadata": {},
   "outputs": [
    {
     "name": "stdout",
     "output_type": "stream",
     "text": [
      "Model: \"sequential_11\"\n",
      "_________________________________________________________________\n",
      "Layer (type)                 Output Shape              Param #   \n",
      "=================================================================\n",
      "conv2d_33 (Conv2D)           (None, 30, 62, 32)        896       \n",
      "_________________________________________________________________\n",
      "max_pooling2d_22 (MaxPooling (None, 15, 31, 32)        0         \n",
      "_________________________________________________________________\n",
      "conv2d_34 (Conv2D)           (None, 13, 29, 64)        18496     \n",
      "_________________________________________________________________\n",
      "max_pooling2d_23 (MaxPooling (None, 6, 14, 64)         0         \n",
      "_________________________________________________________________\n",
      "conv2d_35 (Conv2D)           (None, 4, 12, 64)         36928     \n",
      "_________________________________________________________________\n",
      "flatten_10 (Flatten)         (None, 3072)              0         \n",
      "_________________________________________________________________\n",
      "dense_20 (Dense)             (None, 32)                98336     \n",
      "_________________________________________________________________\n",
      "dense_21 (Dense)             (None, 2)                 66        \n",
      "=================================================================\n",
      "Total params: 154,722\n",
      "Trainable params: 154,722\n",
      "Non-trainable params: 0\n",
      "_________________________________________________________________\n"
     ]
    }
   ],
   "source": [
    "import tensorflow as tf\n",
    "from tensorflow.keras import layers, models\n",
    "model = models.Sequential()\n",
    "model.add(layers.Conv2D(32, (3, 3), activation='relu', input_shape=(32, 64, 3)))\n",
    "model.add(layers.MaxPooling2D((2, 2)))\n",
    "model.add(layers.Conv2D(64, (3, 3), activation='relu'))\n",
    "model.add(layers.MaxPooling2D((2, 2)))\n",
    "model.add(layers.Conv2D(64, (3, 3), activation='relu'))\n",
    "model.add(layers.Flatten())\n",
    "model.add(layers.Dense(32, activation='relu'))\n",
    "model.add(layers.Dense(2, activation='sigmoid'))\n",
    "model.summary() "
   ]
  },
  {
   "cell_type": "code",
   "execution_count": 137,
   "metadata": {},
   "outputs": [],
   "source": [
    "model.compile(optimizer='adam', loss=\"mse\")"
   ]
  },
  {
   "cell_type": "code",
   "execution_count": 138,
   "metadata": {},
   "outputs": [
    {
     "name": "stdout",
     "output_type": "stream",
     "text": [
      "Epoch 1/100\n",
      "3/3 [==============================] - 0s 43ms/step - loss: 0.0764 - val_loss: 0.0743\n",
      "Epoch 2/100\n",
      "3/3 [==============================] - 0s 21ms/step - loss: 0.0747 - val_loss: 0.0748\n",
      "Epoch 3/100\n",
      "3/3 [==============================] - 0s 22ms/step - loss: 0.0748 - val_loss: 0.0754\n",
      "Epoch 4/100\n",
      "3/3 [==============================] - 0s 22ms/step - loss: 0.0746 - val_loss: 0.0747\n",
      "Epoch 5/100\n",
      "3/3 [==============================] - 0s 22ms/step - loss: 0.0743 - val_loss: 0.0747\n",
      "Epoch 6/100\n",
      "3/3 [==============================] - 0s 21ms/step - loss: 0.0749 - val_loss: 0.0743\n",
      "Epoch 7/100\n",
      "3/3 [==============================] - 0s 21ms/step - loss: 0.0738 - val_loss: 0.0742\n",
      "Epoch 8/100\n",
      "3/3 [==============================] - 0s 21ms/step - loss: 0.0748 - val_loss: 0.0753\n",
      "Epoch 9/100\n",
      "3/3 [==============================] - 0s 20ms/step - loss: 0.0742 - val_loss: 0.0743\n",
      "Epoch 10/100\n",
      "3/3 [==============================] - 0s 23ms/step - loss: 0.0736 - val_loss: 0.0741\n",
      "Epoch 11/100\n",
      "3/3 [==============================] - 0s 22ms/step - loss: 0.0735 - val_loss: 0.0737\n",
      "Epoch 12/100\n",
      "3/3 [==============================] - 0s 21ms/step - loss: 0.0734 - val_loss: 0.0735\n",
      "Epoch 13/100\n",
      "3/3 [==============================] - 0s 23ms/step - loss: 0.0732 - val_loss: 0.0735\n",
      "Epoch 14/100\n",
      "3/3 [==============================] - 0s 21ms/step - loss: 0.0733 - val_loss: 0.0735\n",
      "Epoch 15/100\n",
      "3/3 [==============================] - 0s 22ms/step - loss: 0.0730 - val_loss: 0.0737\n",
      "Epoch 16/100\n",
      "3/3 [==============================] - 0s 22ms/step - loss: 0.0727 - val_loss: 0.0738\n",
      "Epoch 17/100\n",
      "3/3 [==============================] - 0s 21ms/step - loss: 0.0726 - val_loss: 0.0741\n",
      "Epoch 18/100\n",
      "3/3 [==============================] - 0s 21ms/step - loss: 0.0726 - val_loss: 0.0743\n",
      "Epoch 19/100\n",
      "3/3 [==============================] - 0s 22ms/step - loss: 0.0725 - val_loss: 0.0743\n",
      "Epoch 20/100\n",
      "3/3 [==============================] - 0s 21ms/step - loss: 0.0725 - val_loss: 0.0742\n",
      "Epoch 21/100\n",
      "3/3 [==============================] - 0s 23ms/step - loss: 0.0725 - val_loss: 0.0740\n",
      "Epoch 22/100\n",
      "3/3 [==============================] - 0s 23ms/step - loss: 0.0725 - val_loss: 0.0740\n",
      "Epoch 23/100\n",
      "3/3 [==============================] - 0s 23ms/step - loss: 0.0725 - val_loss: 0.0738\n",
      "Epoch 24/100\n",
      "3/3 [==============================] - 0s 22ms/step - loss: 0.0725 - val_loss: 0.0739\n",
      "Epoch 25/100\n",
      "3/3 [==============================] - 0s 21ms/step - loss: 0.0724 - val_loss: 0.0739\n",
      "Epoch 26/100\n",
      "3/3 [==============================] - 0s 24ms/step - loss: 0.0729 - val_loss: 0.0740\n",
      "Epoch 27/100\n",
      "3/3 [==============================] - 0s 23ms/step - loss: 0.0724 - val_loss: 0.0741\n",
      "Epoch 28/100\n",
      "3/3 [==============================] - 0s 23ms/step - loss: 0.0732 - val_loss: 0.0740\n",
      "Epoch 29/100\n",
      "3/3 [==============================] - 0s 24ms/step - loss: 0.0725 - val_loss: 0.0739\n",
      "Epoch 30/100\n",
      "3/3 [==============================] - 0s 23ms/step - loss: 0.0728 - val_loss: 0.0738\n",
      "Epoch 31/100\n",
      "3/3 [==============================] - 0s 21ms/step - loss: 0.0726 - val_loss: 0.0739\n",
      "Epoch 32/100\n",
      "3/3 [==============================] - 0s 24ms/step - loss: 0.0725 - val_loss: 0.0740\n",
      "Epoch 33/100\n",
      "3/3 [==============================] - 0s 23ms/step - loss: 0.0725 - val_loss: 0.0741\n",
      "Epoch 34/100\n",
      "3/3 [==============================] - 0s 21ms/step - loss: 0.0724 - val_loss: 0.0742\n",
      "Epoch 35/100\n",
      "3/3 [==============================] - 0s 23ms/step - loss: 0.0726 - val_loss: 0.0740\n",
      "Epoch 36/100\n",
      "3/3 [==============================] - 0s 23ms/step - loss: 0.0723 - val_loss: 0.0742\n",
      "Epoch 37/100\n",
      "3/3 [==============================] - 0s 21ms/step - loss: 0.0724 - val_loss: 0.0741\n",
      "Epoch 38/100\n",
      "3/3 [==============================] - 0s 23ms/step - loss: 0.0724 - val_loss: 0.0743\n",
      "Epoch 39/100\n",
      "3/3 [==============================] - 0s 24ms/step - loss: 0.0724 - val_loss: 0.0742\n",
      "Epoch 40/100\n",
      "3/3 [==============================] - 0s 22ms/step - loss: 0.0723 - val_loss: 0.0742\n",
      "Epoch 41/100\n",
      "3/3 [==============================] - 0s 24ms/step - loss: 0.0722 - val_loss: 0.0743\n",
      "Epoch 42/100\n",
      "3/3 [==============================] - 0s 24ms/step - loss: 0.0723 - val_loss: 0.0742\n",
      "Epoch 43/100\n",
      "3/3 [==============================] - 0s 23ms/step - loss: 0.0722 - val_loss: 0.0742\n",
      "Epoch 44/100\n",
      "3/3 [==============================] - 0s 22ms/step - loss: 0.0722 - val_loss: 0.0742\n",
      "Epoch 45/100\n",
      "3/3 [==============================] - 0s 23ms/step - loss: 0.0722 - val_loss: 0.0742\n",
      "Epoch 46/100\n",
      "3/3 [==============================] - 0s 21ms/step - loss: 0.0722 - val_loss: 0.0741\n",
      "Epoch 47/100\n",
      "3/3 [==============================] - 0s 22ms/step - loss: 0.0721 - val_loss: 0.0741\n",
      "Epoch 48/100\n",
      "3/3 [==============================] - 0s 23ms/step - loss: 0.0723 - val_loss: 0.0740\n",
      "Epoch 49/100\n",
      "3/3 [==============================] - 0s 23ms/step - loss: 0.0722 - val_loss: 0.0741\n",
      "Epoch 50/100\n",
      "3/3 [==============================] - 0s 21ms/step - loss: 0.0722 - val_loss: 0.0743\n",
      "Epoch 51/100\n",
      "3/3 [==============================] - 0s 23ms/step - loss: 0.0722 - val_loss: 0.0744\n",
      "Epoch 52/100\n",
      "3/3 [==============================] - 0s 23ms/step - loss: 0.0721 - val_loss: 0.0742\n",
      "Epoch 53/100\n",
      "3/3 [==============================] - 0s 24ms/step - loss: 0.0722 - val_loss: 0.0739\n",
      "Epoch 54/100\n",
      "3/3 [==============================] - 0s 24ms/step - loss: 0.0720 - val_loss: 0.0739\n",
      "Epoch 55/100\n",
      "3/3 [==============================] - 0s 24ms/step - loss: 0.0720 - val_loss: 0.0742\n",
      "Epoch 56/100\n",
      "3/3 [==============================] - 0s 21ms/step - loss: 0.0721 - val_loss: 0.0742\n",
      "Epoch 57/100\n",
      "3/3 [==============================] - 0s 20ms/step - loss: 0.0720 - val_loss: 0.0742\n",
      "Epoch 58/100\n",
      "3/3 [==============================] - 0s 21ms/step - loss: 0.0720 - val_loss: 0.0741\n",
      "Epoch 59/100\n",
      "3/3 [==============================] - 0s 23ms/step - loss: 0.0719 - val_loss: 0.0744\n",
      "Epoch 60/100\n",
      "3/3 [==============================] - 0s 22ms/step - loss: 0.0720 - val_loss: 0.0742\n",
      "Epoch 61/100\n",
      "3/3 [==============================] - 0s 22ms/step - loss: 0.0718 - val_loss: 0.0739\n",
      "Epoch 62/100\n",
      "3/3 [==============================] - 0s 23ms/step - loss: 0.0717 - val_loss: 0.0737\n",
      "Epoch 63/100\n",
      "3/3 [==============================] - 0s 23ms/step - loss: 0.0717 - val_loss: 0.0738\n",
      "Epoch 64/100\n",
      "3/3 [==============================] - 0s 23ms/step - loss: 0.0715 - val_loss: 0.0742\n",
      "Epoch 65/100\n",
      "3/3 [==============================] - 0s 23ms/step - loss: 0.0715 - val_loss: 0.0745\n",
      "Epoch 66/100\n",
      "3/3 [==============================] - 0s 22ms/step - loss: 0.0714 - val_loss: 0.0748\n",
      "Epoch 67/100\n",
      "3/3 [==============================] - 0s 21ms/step - loss: 0.0713 - val_loss: 0.0746\n",
      "Epoch 68/100\n",
      "3/3 [==============================] - 0s 23ms/step - loss: 0.0712 - val_loss: 0.0742\n",
      "Epoch 69/100\n",
      "3/3 [==============================] - 0s 23ms/step - loss: 0.0710 - val_loss: 0.0743\n",
      "Epoch 70/100\n",
      "3/3 [==============================] - 0s 24ms/step - loss: 0.0714 - val_loss: 0.0752\n",
      "Epoch 71/100\n",
      "3/3 [==============================] - 0s 22ms/step - loss: 0.0712 - val_loss: 0.0746\n",
      "Epoch 72/100\n",
      "3/3 [==============================] - 0s 21ms/step - loss: 0.0711 - val_loss: 0.0742\n",
      "Epoch 73/100\n",
      "3/3 [==============================] - 0s 23ms/step - loss: 0.0708 - val_loss: 0.0745\n",
      "Epoch 74/100\n",
      "3/3 [==============================] - 0s 23ms/step - loss: 0.0708 - val_loss: 0.0743\n",
      "Epoch 75/100\n",
      "3/3 [==============================] - 0s 22ms/step - loss: 0.0707 - val_loss: 0.0742\n",
      "Epoch 76/100\n",
      "3/3 [==============================] - 0s 21ms/step - loss: 0.0705 - val_loss: 0.0745\n",
      "Epoch 77/100\n",
      "3/3 [==============================] - 0s 23ms/step - loss: 0.0703 - val_loss: 0.0742\n",
      "Epoch 78/100\n",
      "3/3 [==============================] - 0s 26ms/step - loss: 0.0703 - val_loss: 0.0750\n",
      "Epoch 79/100\n",
      "3/3 [==============================] - 0s 30ms/step - loss: 0.0700 - val_loss: 0.0742\n",
      "Epoch 80/100\n",
      "3/3 [==============================] - 0s 24ms/step - loss: 0.0698 - val_loss: 0.0745\n",
      "Epoch 81/100\n",
      "3/3 [==============================] - 0s 23ms/step - loss: 0.0699 - val_loss: 0.0747\n",
      "Epoch 82/100\n",
      "3/3 [==============================] - 0s 25ms/step - loss: 0.0695 - val_loss: 0.0754\n",
      "Epoch 83/100\n",
      "3/3 [==============================] - 0s 26ms/step - loss: 0.0694 - val_loss: 0.0746\n"
     ]
    },
    {
     "name": "stdout",
     "output_type": "stream",
     "text": [
      "Epoch 84/100\n",
      "3/3 [==============================] - 0s 22ms/step - loss: 0.0693 - val_loss: 0.0745\n",
      "Epoch 85/100\n",
      "3/3 [==============================] - 0s 21ms/step - loss: 0.0693 - val_loss: 0.0779\n",
      "Epoch 86/100\n",
      "3/3 [==============================] - 0s 21ms/step - loss: 0.0691 - val_loss: 0.0745\n",
      "Epoch 87/100\n",
      "3/3 [==============================] - 0s 23ms/step - loss: 0.0694 - val_loss: 0.0721\n",
      "Epoch 88/100\n",
      "3/3 [==============================] - 0s 23ms/step - loss: 0.0689 - val_loss: 0.0758\n",
      "Epoch 89/100\n",
      "3/3 [==============================] - 0s 22ms/step - loss: 0.0693 - val_loss: 0.0776\n",
      "Epoch 90/100\n",
      "3/3 [==============================] - 0s 22ms/step - loss: 0.0688 - val_loss: 0.0734\n",
      "Epoch 91/100\n",
      "3/3 [==============================] - 0s 24ms/step - loss: 0.0686 - val_loss: 0.0756\n",
      "Epoch 92/100\n",
      "3/3 [==============================] - 0s 23ms/step - loss: 0.0685 - val_loss: 0.0756\n",
      "Epoch 93/100\n",
      "3/3 [==============================] - 0s 22ms/step - loss: 0.0683 - val_loss: 0.0739\n",
      "Epoch 94/100\n",
      "3/3 [==============================] - 0s 21ms/step - loss: 0.0683 - val_loss: 0.0774\n",
      "Epoch 95/100\n",
      "3/3 [==============================] - 0s 23ms/step - loss: 0.0681 - val_loss: 0.0764\n",
      "Epoch 96/100\n",
      "3/3 [==============================] - 0s 23ms/step - loss: 0.0678 - val_loss: 0.0762\n",
      "Epoch 97/100\n",
      "3/3 [==============================] - 0s 24ms/step - loss: 0.0680 - val_loss: 0.0767\n",
      "Epoch 98/100\n",
      "3/3 [==============================] - 0s 23ms/step - loss: 0.0678 - val_loss: 0.0721\n",
      "Epoch 99/100\n",
      "3/3 [==============================] - 0s 23ms/step - loss: 0.0679 - val_loss: 0.0737\n",
      "Epoch 100/100\n",
      "3/3 [==============================] - 0s 22ms/step - loss: 0.0670 - val_loss: 0.0771\n"
     ]
    }
   ],
   "source": [
    "history = model.fit(X[:90], Y[:90], epochs=100, validation_data=(X[-10:], Y[-10:]))"
   ]
  },
  {
   "cell_type": "markdown",
   "metadata": {},
   "source": [
    "# Test"
   ]
  },
  {
   "cell_type": "code",
   "execution_count": 128,
   "metadata": {},
   "outputs": [
    {
     "data": {
      "text/plain": [
       "array([[0.27037165, 0.6499416 ],\n",
       "       [0.26794305, 0.8172035 ],\n",
       "       [0.7593219 , 0.7707714 ],\n",
       "       [0.8990095 , 0.42748293],\n",
       "       [0.92324394, 0.37990242],\n",
       "       [0.1450885 , 0.72960037],\n",
       "       [0.46610597, 0.3824025 ],\n",
       "       [0.4727258 , 0.5357595 ],\n",
       "       [0.42496645, 0.82770765],\n",
       "       [0.43345067, 0.34198594]], dtype=float32)"
      ]
     },
     "execution_count": 128,
     "metadata": {},
     "output_type": "execute_result"
    }
   ],
   "source": [
    "model.predict(X[-10:])"
   ]
  },
  {
   "cell_type": "code",
   "execution_count": 127,
   "metadata": {},
   "outputs": [
    {
     "data": {
      "text/plain": [
       "(0.0, 1.0)"
      ]
     },
     "execution_count": 127,
     "metadata": {},
     "output_type": "execute_result"
    }
   ],
   "source": [
    "x, y"
   ]
  },
  {
   "cell_type": "code",
   "execution_count": 125,
   "metadata": {},
   "outputs": [],
   "source": [
    "cap = cv2.VideoCapture(0)\n",
    "cap.set(cv2.CAP_PROP_FRAME_WIDTH, 320)\n",
    "cap.set(cv2.CAP_PROP_FRAME_HEIGHT, 240)\n",
    "cv2.namedWindow(\"window\", cv2.WND_PROP_FULLSCREEN)\n",
    "cv2.setWindowProperty(\"window\",cv2.WND_PROP_FULLSCREEN,cv2.WINDOW_FULLSCREEN)\n",
    "try:\n",
    "    while(True): \n",
    "        ret, frame = cap.read()\n",
    "        preds = landmarks_detector.get_landmarks(frame)\n",
    "        try:\n",
    "            x_max, x_min, y_max, y_min = get_bound(preds)\n",
    "            cv2.rectangle(frame, (x_min, y_min), (x_max, y_max), color=(245, 245, 245), thickness=2) \n",
    "            box = get_box(get_bound(preds))\n",
    "        except:\n",
    "            pass\n",
    "        [x, y] = model.predict(np.expand_dims(warpBox(frame, box, target_height=32, target_width=64), 0))[0]\n",
    "        image = np.zeros((height, width, 3), np.uint8)\n",
    "        image[:,:,:] = 215\n",
    "        cv2.circle(image, (int(x*width),int(y*height)), radius=30, color=(35,35,35), thickness=-2)\n",
    "        cv2.imshow(\"window\", image)        \n",
    "        if cv2.waitKey(1) & 0xFF == ord('q'):\n",
    "            break\n",
    "except:\n",
    "    pass\n",
    "finally:\n",
    "    cv2.destroyAllWindows()\n",
    "    cap.release()"
   ]
  },
  {
   "cell_type": "code",
   "execution_count": null,
   "metadata": {},
   "outputs": [],
   "source": []
  }
 ],
 "metadata": {
  "kernelspec": {
   "display_name": "Python 3",
   "language": "python",
   "name": "python3"
  },
  "language_info": {
   "codemirror_mode": {
    "name": "ipython",
    "version": 3
   },
   "file_extension": ".py",
   "mimetype": "text/x-python",
   "name": "python",
   "nbconvert_exporter": "python",
   "pygments_lexer": "ipython3",
   "version": "3.7.6"
  }
 },
 "nbformat": 4,
 "nbformat_minor": 4
}
